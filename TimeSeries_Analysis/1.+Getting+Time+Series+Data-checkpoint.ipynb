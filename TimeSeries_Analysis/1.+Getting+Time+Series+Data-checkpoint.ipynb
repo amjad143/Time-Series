{
 "cells": [
  {
   "cell_type": "code",
   "execution_count": 1,
   "metadata": {},
   "outputs": [
    {
     "name": "stdout",
     "output_type": "stream",
     "text": [
      "Requirement already satisfied: yfinance in c:\\users\\user\\anaconda3\\lib\\site-packages (0.1.64)\n",
      "Requirement already satisfied: pandas>=0.24 in c:\\users\\user\\anaconda3\\lib\\site-packages (from yfinance) (1.2.4)\n",
      "Requirement already satisfied: lxml>=4.5.1 in c:\\users\\user\\anaconda3\\lib\\site-packages (from yfinance) (4.6.3)\n",
      "Requirement already satisfied: multitasking>=0.0.7 in c:\\users\\user\\anaconda3\\lib\\site-packages (from yfinance) (0.0.9)\n",
      "Requirement already satisfied: numpy>=1.15 in c:\\users\\user\\anaconda3\\lib\\site-packages (from yfinance) (1.20.1)\n",
      "Requirement already satisfied: requests>=2.20 in c:\\users\\user\\anaconda3\\lib\\site-packages (from yfinance) (2.25.1)\n",
      "Requirement already satisfied: pytz>=2017.3 in c:\\users\\user\\anaconda3\\lib\\site-packages (from pandas>=0.24->yfinance) (2021.1)\n",
      "Requirement already satisfied: python-dateutil>=2.7.3 in c:\\users\\user\\anaconda3\\lib\\site-packages (from pandas>=0.24->yfinance) (2.8.1)\n",
      "Requirement already satisfied: urllib3<1.27,>=1.21.1 in c:\\users\\user\\anaconda3\\lib\\site-packages (from requests>=2.20->yfinance) (1.26.4)\n",
      "Requirement already satisfied: certifi>=2017.4.17 in c:\\users\\user\\anaconda3\\lib\\site-packages (from requests>=2.20->yfinance) (2020.12.5)\n",
      "Requirement already satisfied: idna<3,>=2.5 in c:\\users\\user\\anaconda3\\lib\\site-packages (from requests>=2.20->yfinance) (2.10)\n",
      "Requirement already satisfied: chardet<5,>=3.0.2 in c:\\users\\user\\anaconda3\\lib\\site-packages (from requests>=2.20->yfinance) (4.0.0)\n",
      "Requirement already satisfied: six>=1.5 in c:\\users\\user\\anaconda3\\lib\\site-packages (from python-dateutil>=2.7.3->pandas>=0.24->yfinance) (1.15.0)\n"
     ]
    }
   ],
   "source": [
    "!pip install yfinance"
   ]
  },
  {
   "cell_type": "code",
   "execution_count": 2,
   "metadata": {},
   "outputs": [],
   "source": [
    "import yfinance as yf"
   ]
  },
  {
   "cell_type": "code",
   "execution_count": 3,
   "metadata": {},
   "outputs": [],
   "source": [
    "df = yf.download(tickers='FB',start='2019-01-01', end='2019-12-31', progress=False)"
   ]
  },
  {
   "cell_type": "code",
   "execution_count": 4,
   "metadata": {},
   "outputs": [
    {
     "data": {
      "text/html": [
       "<div>\n",
       "<style scoped>\n",
       "    .dataframe tbody tr th:only-of-type {\n",
       "        vertical-align: middle;\n",
       "    }\n",
       "\n",
       "    .dataframe tbody tr th {\n",
       "        vertical-align: top;\n",
       "    }\n",
       "\n",
       "    .dataframe thead th {\n",
       "        text-align: right;\n",
       "    }\n",
       "</style>\n",
       "<table border=\"1\" class=\"dataframe\">\n",
       "  <thead>\n",
       "    <tr style=\"text-align: right;\">\n",
       "      <th></th>\n",
       "      <th>Open</th>\n",
       "      <th>High</th>\n",
       "      <th>Low</th>\n",
       "      <th>Close</th>\n",
       "      <th>Adj Close</th>\n",
       "      <th>Volume</th>\n",
       "    </tr>\n",
       "    <tr>\n",
       "      <th>Date</th>\n",
       "      <th></th>\n",
       "      <th></th>\n",
       "      <th></th>\n",
       "      <th></th>\n",
       "      <th></th>\n",
       "      <th></th>\n",
       "    </tr>\n",
       "  </thead>\n",
       "  <tbody>\n",
       "    <tr>\n",
       "      <th>2018-12-31</th>\n",
       "      <td>134.449997</td>\n",
       "      <td>134.639999</td>\n",
       "      <td>129.949997</td>\n",
       "      <td>131.089996</td>\n",
       "      <td>131.089996</td>\n",
       "      <td>24625300</td>\n",
       "    </tr>\n",
       "    <tr>\n",
       "      <th>2019-01-02</th>\n",
       "      <td>128.990005</td>\n",
       "      <td>137.509995</td>\n",
       "      <td>128.559998</td>\n",
       "      <td>135.679993</td>\n",
       "      <td>135.679993</td>\n",
       "      <td>28146200</td>\n",
       "    </tr>\n",
       "    <tr>\n",
       "      <th>2019-01-03</th>\n",
       "      <td>134.690002</td>\n",
       "      <td>137.169998</td>\n",
       "      <td>131.119995</td>\n",
       "      <td>131.740005</td>\n",
       "      <td>131.740005</td>\n",
       "      <td>22717900</td>\n",
       "    </tr>\n",
       "    <tr>\n",
       "      <th>2019-01-04</th>\n",
       "      <td>134.009995</td>\n",
       "      <td>138.000000</td>\n",
       "      <td>133.750000</td>\n",
       "      <td>137.949997</td>\n",
       "      <td>137.949997</td>\n",
       "      <td>29002100</td>\n",
       "    </tr>\n",
       "    <tr>\n",
       "      <th>2019-01-07</th>\n",
       "      <td>137.559998</td>\n",
       "      <td>138.869995</td>\n",
       "      <td>135.910004</td>\n",
       "      <td>138.050003</td>\n",
       "      <td>138.050003</td>\n",
       "      <td>20089300</td>\n",
       "    </tr>\n",
       "  </tbody>\n",
       "</table>\n",
       "</div>"
      ],
      "text/plain": [
       "                  Open        High         Low       Close   Adj Close  \\\n",
       "Date                                                                     \n",
       "2018-12-31  134.449997  134.639999  129.949997  131.089996  131.089996   \n",
       "2019-01-02  128.990005  137.509995  128.559998  135.679993  135.679993   \n",
       "2019-01-03  134.690002  137.169998  131.119995  131.740005  131.740005   \n",
       "2019-01-04  134.009995  138.000000  133.750000  137.949997  137.949997   \n",
       "2019-01-07  137.559998  138.869995  135.910004  138.050003  138.050003   \n",
       "\n",
       "              Volume  \n",
       "Date                  \n",
       "2018-12-31  24625300  \n",
       "2019-01-02  28146200  \n",
       "2019-01-03  22717900  \n",
       "2019-01-04  29002100  \n",
       "2019-01-07  20089300  "
      ]
     },
     "execution_count": 4,
     "metadata": {},
     "output_type": "execute_result"
    }
   ],
   "source": [
    "df.head()"
   ]
  },
  {
   "cell_type": "markdown",
   "metadata": {},
   "source": [
    "## Amazon Time Series data"
   ]
  },
  {
   "cell_type": "code",
   "execution_count": 5,
   "metadata": {},
   "outputs": [],
   "source": [
    "data = yf.download('AMZN',start='2019-01-01', end='2019-12-31', progress=False)"
   ]
  },
  {
   "cell_type": "code",
   "execution_count": 6,
   "metadata": {},
   "outputs": [
    {
     "data": {
      "text/html": [
       "<div>\n",
       "<style scoped>\n",
       "    .dataframe tbody tr th:only-of-type {\n",
       "        vertical-align: middle;\n",
       "    }\n",
       "\n",
       "    .dataframe tbody tr th {\n",
       "        vertical-align: top;\n",
       "    }\n",
       "\n",
       "    .dataframe thead th {\n",
       "        text-align: right;\n",
       "    }\n",
       "</style>\n",
       "<table border=\"1\" class=\"dataframe\">\n",
       "  <thead>\n",
       "    <tr style=\"text-align: right;\">\n",
       "      <th></th>\n",
       "      <th>Open</th>\n",
       "      <th>High</th>\n",
       "      <th>Low</th>\n",
       "      <th>Close</th>\n",
       "      <th>Adj Close</th>\n",
       "      <th>Volume</th>\n",
       "    </tr>\n",
       "    <tr>\n",
       "      <th>Date</th>\n",
       "      <th></th>\n",
       "      <th></th>\n",
       "      <th></th>\n",
       "      <th></th>\n",
       "      <th></th>\n",
       "      <th></th>\n",
       "    </tr>\n",
       "  </thead>\n",
       "  <tbody>\n",
       "    <tr>\n",
       "      <th>2018-12-31</th>\n",
       "      <td>1510.800049</td>\n",
       "      <td>1520.760010</td>\n",
       "      <td>1487.000000</td>\n",
       "      <td>1501.969971</td>\n",
       "      <td>1501.969971</td>\n",
       "      <td>6954500</td>\n",
       "    </tr>\n",
       "    <tr>\n",
       "      <th>2019-01-02</th>\n",
       "      <td>1465.199951</td>\n",
       "      <td>1553.359985</td>\n",
       "      <td>1460.930054</td>\n",
       "      <td>1539.130005</td>\n",
       "      <td>1539.130005</td>\n",
       "      <td>7983100</td>\n",
       "    </tr>\n",
       "    <tr>\n",
       "      <th>2019-01-03</th>\n",
       "      <td>1520.010010</td>\n",
       "      <td>1538.000000</td>\n",
       "      <td>1497.109985</td>\n",
       "      <td>1500.280029</td>\n",
       "      <td>1500.280029</td>\n",
       "      <td>6975600</td>\n",
       "    </tr>\n",
       "    <tr>\n",
       "      <th>2019-01-04</th>\n",
       "      <td>1530.000000</td>\n",
       "      <td>1594.000000</td>\n",
       "      <td>1518.310059</td>\n",
       "      <td>1575.390015</td>\n",
       "      <td>1575.390015</td>\n",
       "      <td>9182600</td>\n",
       "    </tr>\n",
       "    <tr>\n",
       "      <th>2019-01-07</th>\n",
       "      <td>1602.310059</td>\n",
       "      <td>1634.560059</td>\n",
       "      <td>1589.189941</td>\n",
       "      <td>1629.510010</td>\n",
       "      <td>1629.510010</td>\n",
       "      <td>7993200</td>\n",
       "    </tr>\n",
       "  </tbody>\n",
       "</table>\n",
       "</div>"
      ],
      "text/plain": [
       "                   Open         High          Low        Close    Adj Close  \\\n",
       "Date                                                                          \n",
       "2018-12-31  1510.800049  1520.760010  1487.000000  1501.969971  1501.969971   \n",
       "2019-01-02  1465.199951  1553.359985  1460.930054  1539.130005  1539.130005   \n",
       "2019-01-03  1520.010010  1538.000000  1497.109985  1500.280029  1500.280029   \n",
       "2019-01-04  1530.000000  1594.000000  1518.310059  1575.390015  1575.390015   \n",
       "2019-01-07  1602.310059  1634.560059  1589.189941  1629.510010  1629.510010   \n",
       "\n",
       "             Volume  \n",
       "Date                 \n",
       "2018-12-31  6954500  \n",
       "2019-01-02  7983100  \n",
       "2019-01-03  6975600  \n",
       "2019-01-04  9182600  \n",
       "2019-01-07  7993200  "
      ]
     },
     "execution_count": 6,
     "metadata": {},
     "output_type": "execute_result"
    }
   ],
   "source": [
    "data.head()"
   ]
  },
  {
   "cell_type": "code",
   "execution_count": null,
   "metadata": {},
   "outputs": [],
   "source": []
  }
 ],
 "metadata": {
  "kernelspec": {
   "display_name": "Python 3",
   "language": "python",
   "name": "python3"
  },
  "language_info": {
   "codemirror_mode": {
    "name": "ipython",
    "version": 3
   },
   "file_extension": ".py",
   "mimetype": "text/x-python",
   "name": "python",
   "nbconvert_exporter": "python",
   "pygments_lexer": "ipython3",
   "version": "3.8.8"
  }
 },
 "nbformat": 4,
 "nbformat_minor": 4
}
