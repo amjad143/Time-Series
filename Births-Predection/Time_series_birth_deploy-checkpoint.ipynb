{
 "cells": [
  {
   "cell_type": "code",
   "execution_count": 1,
   "metadata": {},
   "outputs": [],
   "source": [
    "import numpy as np\n",
    "import pandas as pd\n",
    "import matplotlib.pyplot as plt"
   ]
  },
  {
   "cell_type": "code",
   "execution_count": 2,
   "metadata": {},
   "outputs": [
    {
     "data": {
      "text/html": [
       "<div>\n",
       "<style scoped>\n",
       "    .dataframe tbody tr th:only-of-type {\n",
       "        vertical-align: middle;\n",
       "    }\n",
       "\n",
       "    .dataframe tbody tr th {\n",
       "        vertical-align: top;\n",
       "    }\n",
       "\n",
       "    .dataframe thead th {\n",
       "        text-align: right;\n",
       "    }\n",
       "</style>\n",
       "<table border=\"1\" class=\"dataframe\">\n",
       "  <thead>\n",
       "    <tr style=\"text-align: right;\">\n",
       "      <th></th>\n",
       "      <th>date</th>\n",
       "      <th>births</th>\n",
       "    </tr>\n",
       "  </thead>\n",
       "  <tbody>\n",
       "    <tr>\n",
       "      <th>0</th>\n",
       "      <td>1959-01-01</td>\n",
       "      <td>35</td>\n",
       "    </tr>\n",
       "    <tr>\n",
       "      <th>1</th>\n",
       "      <td>1959-01-02</td>\n",
       "      <td>32</td>\n",
       "    </tr>\n",
       "    <tr>\n",
       "      <th>2</th>\n",
       "      <td>1959-01-03</td>\n",
       "      <td>30</td>\n",
       "    </tr>\n",
       "    <tr>\n",
       "      <th>3</th>\n",
       "      <td>1959-01-04</td>\n",
       "      <td>31</td>\n",
       "    </tr>\n",
       "    <tr>\n",
       "      <th>4</th>\n",
       "      <td>1959-01-05</td>\n",
       "      <td>44</td>\n",
       "    </tr>\n",
       "  </tbody>\n",
       "</table>\n",
       "</div>"
      ],
      "text/plain": [
       "         date  births\n",
       "0  1959-01-01      35\n",
       "1  1959-01-02      32\n",
       "2  1959-01-03      30\n",
       "3  1959-01-04      31\n",
       "4  1959-01-05      44"
      ]
     },
     "execution_count": 2,
     "metadata": {},
     "output_type": "execute_result"
    }
   ],
   "source": [
    "pd.read_csv('daily-total-female-births-CA.csv').head()"
   ]
  },
  {
   "cell_type": "code",
   "execution_count": 3,
   "metadata": {},
   "outputs": [
    {
     "data": {
      "text/html": [
       "<div>\n",
       "<style scoped>\n",
       "    .dataframe tbody tr th:only-of-type {\n",
       "        vertical-align: middle;\n",
       "    }\n",
       "\n",
       "    .dataframe tbody tr th {\n",
       "        vertical-align: top;\n",
       "    }\n",
       "\n",
       "    .dataframe thead th {\n",
       "        text-align: right;\n",
       "    }\n",
       "</style>\n",
       "<table border=\"1\" class=\"dataframe\">\n",
       "  <thead>\n",
       "    <tr style=\"text-align: right;\">\n",
       "      <th></th>\n",
       "      <th>births</th>\n",
       "    </tr>\n",
       "    <tr>\n",
       "      <th>date</th>\n",
       "      <th></th>\n",
       "    </tr>\n",
       "  </thead>\n",
       "  <tbody>\n",
       "    <tr>\n",
       "      <th>1959-01-01</th>\n",
       "      <td>35</td>\n",
       "    </tr>\n",
       "    <tr>\n",
       "      <th>1959-01-02</th>\n",
       "      <td>32</td>\n",
       "    </tr>\n",
       "    <tr>\n",
       "      <th>1959-01-03</th>\n",
       "      <td>30</td>\n",
       "    </tr>\n",
       "    <tr>\n",
       "      <th>1959-01-04</th>\n",
       "      <td>31</td>\n",
       "    </tr>\n",
       "    <tr>\n",
       "      <th>1959-01-05</th>\n",
       "      <td>44</td>\n",
       "    </tr>\n",
       "  </tbody>\n",
       "</table>\n",
       "</div>"
      ],
      "text/plain": [
       "            births\n",
       "date              \n",
       "1959-01-01      35\n",
       "1959-01-02      32\n",
       "1959-01-03      30\n",
       "1959-01-04      31\n",
       "1959-01-05      44"
      ]
     },
     "execution_count": 3,
     "metadata": {},
     "output_type": "execute_result"
    }
   ],
   "source": [
    "f_birth=pd.read_csv('daily-total-female-births-CA.csv',parse_dates=[0],index_col=0)\n",
    "f_birth.head()"
   ]
  },
  {
   "cell_type": "code",
   "execution_count": 4,
   "metadata": {},
   "outputs": [
    {
     "data": {
      "text/plain": [
       "array([[35],\n",
       "       [32],\n",
       "       [30],\n",
       "       [31],\n",
       "       [44],\n",
       "       [29],\n",
       "       [45],\n",
       "       [43],\n",
       "       [38],\n",
       "       [27],\n",
       "       [38],\n",
       "       [33],\n",
       "       [55],\n",
       "       [47],\n",
       "       [45],\n",
       "       [37],\n",
       "       [50],\n",
       "       [43],\n",
       "       [41],\n",
       "       [52],\n",
       "       [34],\n",
       "       [53],\n",
       "       [39],\n",
       "       [32],\n",
       "       [37],\n",
       "       [43],\n",
       "       [39],\n",
       "       [35],\n",
       "       [44],\n",
       "       [38],\n",
       "       [24],\n",
       "       [23],\n",
       "       [31],\n",
       "       [44],\n",
       "       [38],\n",
       "       [50],\n",
       "       [38],\n",
       "       [51],\n",
       "       [31],\n",
       "       [31],\n",
       "       [51],\n",
       "       [36],\n",
       "       [45],\n",
       "       [51],\n",
       "       [34],\n",
       "       [52],\n",
       "       [47],\n",
       "       [45],\n",
       "       [46],\n",
       "       [39],\n",
       "       [48],\n",
       "       [37],\n",
       "       [35],\n",
       "       [52],\n",
       "       [42],\n",
       "       [45],\n",
       "       [39],\n",
       "       [37],\n",
       "       [30],\n",
       "       [35],\n",
       "       [28],\n",
       "       [45],\n",
       "       [34],\n",
       "       [36],\n",
       "       [50],\n",
       "       [44],\n",
       "       [39],\n",
       "       [32],\n",
       "       [39],\n",
       "       [45],\n",
       "       [43],\n",
       "       [39],\n",
       "       [31],\n",
       "       [27],\n",
       "       [30],\n",
       "       [42],\n",
       "       [46],\n",
       "       [41],\n",
       "       [36],\n",
       "       [45],\n",
       "       [46],\n",
       "       [43],\n",
       "       [38],\n",
       "       [34],\n",
       "       [35],\n",
       "       [56],\n",
       "       [36],\n",
       "       [32],\n",
       "       [50],\n",
       "       [41],\n",
       "       [39],\n",
       "       [41],\n",
       "       [47],\n",
       "       [34],\n",
       "       [36],\n",
       "       [33],\n",
       "       [35],\n",
       "       [38],\n",
       "       [38],\n",
       "       [34],\n",
       "       [53],\n",
       "       [34],\n",
       "       [34],\n",
       "       [38],\n",
       "       [35],\n",
       "       [32],\n",
       "       [42],\n",
       "       [34],\n",
       "       [46],\n",
       "       [30],\n",
       "       [46],\n",
       "       [45],\n",
       "       [54],\n",
       "       [34],\n",
       "       [37],\n",
       "       [35],\n",
       "       [40],\n",
       "       [42],\n",
       "       [58],\n",
       "       [51],\n",
       "       [32],\n",
       "       [35],\n",
       "       [38],\n",
       "       [33],\n",
       "       [39],\n",
       "       [47],\n",
       "       [38],\n",
       "       [52],\n",
       "       [30],\n",
       "       [34],\n",
       "       [40],\n",
       "       [35],\n",
       "       [42],\n",
       "       [41],\n",
       "       [42],\n",
       "       [38],\n",
       "       [24],\n",
       "       [34],\n",
       "       [43],\n",
       "       [36],\n",
       "       [55],\n",
       "       [41],\n",
       "       [45],\n",
       "       [41],\n",
       "       [37],\n",
       "       [43],\n",
       "       [39],\n",
       "       [33],\n",
       "       [43],\n",
       "       [40],\n",
       "       [38],\n",
       "       [45],\n",
       "       [46],\n",
       "       [34],\n",
       "       [35],\n",
       "       [48],\n",
       "       [51],\n",
       "       [36],\n",
       "       [33],\n",
       "       [46],\n",
       "       [42],\n",
       "       [48],\n",
       "       [34],\n",
       "       [41],\n",
       "       [35],\n",
       "       [40],\n",
       "       [34],\n",
       "       [30],\n",
       "       [36],\n",
       "       [40],\n",
       "       [39],\n",
       "       [45],\n",
       "       [38],\n",
       "       [47],\n",
       "       [33],\n",
       "       [30],\n",
       "       [42],\n",
       "       [43],\n",
       "       [41],\n",
       "       [41],\n",
       "       [59],\n",
       "       [43],\n",
       "       [45],\n",
       "       [38],\n",
       "       [37],\n",
       "       [45],\n",
       "       [42],\n",
       "       [57],\n",
       "       [46],\n",
       "       [51],\n",
       "       [41],\n",
       "       [47],\n",
       "       [26],\n",
       "       [35],\n",
       "       [44],\n",
       "       [41],\n",
       "       [42],\n",
       "       [36],\n",
       "       [45],\n",
       "       [45],\n",
       "       [45],\n",
       "       [47],\n",
       "       [38],\n",
       "       [42],\n",
       "       [35],\n",
       "       [36],\n",
       "       [39],\n",
       "       [45],\n",
       "       [43],\n",
       "       [47],\n",
       "       [36],\n",
       "       [41],\n",
       "       [50],\n",
       "       [39],\n",
       "       [41],\n",
       "       [46],\n",
       "       [64],\n",
       "       [45],\n",
       "       [34],\n",
       "       [38],\n",
       "       [44],\n",
       "       [48],\n",
       "       [46],\n",
       "       [44],\n",
       "       [37],\n",
       "       [39],\n",
       "       [44],\n",
       "       [45],\n",
       "       [33],\n",
       "       [44],\n",
       "       [38],\n",
       "       [46],\n",
       "       [46],\n",
       "       [40],\n",
       "       [39],\n",
       "       [44],\n",
       "       [48],\n",
       "       [50],\n",
       "       [41],\n",
       "       [42],\n",
       "       [51],\n",
       "       [41],\n",
       "       [44],\n",
       "       [38],\n",
       "       [68],\n",
       "       [40],\n",
       "       [42],\n",
       "       [51],\n",
       "       [44],\n",
       "       [45],\n",
       "       [36],\n",
       "       [57],\n",
       "       [44],\n",
       "       [42],\n",
       "       [53],\n",
       "       [42],\n",
       "       [34],\n",
       "       [40],\n",
       "       [56],\n",
       "       [44],\n",
       "       [53],\n",
       "       [55],\n",
       "       [39],\n",
       "       [59],\n",
       "       [55],\n",
       "       [73],\n",
       "       [55],\n",
       "       [44],\n",
       "       [43],\n",
       "       [40],\n",
       "       [47],\n",
       "       [51],\n",
       "       [56],\n",
       "       [49],\n",
       "       [54],\n",
       "       [56],\n",
       "       [47],\n",
       "       [44],\n",
       "       [43],\n",
       "       [42],\n",
       "       [45],\n",
       "       [50],\n",
       "       [48],\n",
       "       [43],\n",
       "       [40],\n",
       "       [59],\n",
       "       [41],\n",
       "       [42],\n",
       "       [51],\n",
       "       [49],\n",
       "       [45],\n",
       "       [43],\n",
       "       [42],\n",
       "       [38],\n",
       "       [47],\n",
       "       [38],\n",
       "       [36],\n",
       "       [42],\n",
       "       [35],\n",
       "       [28],\n",
       "       [44],\n",
       "       [36],\n",
       "       [45],\n",
       "       [46],\n",
       "       [48],\n",
       "       [49],\n",
       "       [43],\n",
       "       [42],\n",
       "       [59],\n",
       "       [45],\n",
       "       [52],\n",
       "       [46],\n",
       "       [42],\n",
       "       [40],\n",
       "       [40],\n",
       "       [45],\n",
       "       [35],\n",
       "       [35],\n",
       "       [40],\n",
       "       [39],\n",
       "       [33],\n",
       "       [42],\n",
       "       [47],\n",
       "       [51],\n",
       "       [44],\n",
       "       [40],\n",
       "       [57],\n",
       "       [49],\n",
       "       [45],\n",
       "       [49],\n",
       "       [51],\n",
       "       [46],\n",
       "       [44],\n",
       "       [52],\n",
       "       [45],\n",
       "       [32],\n",
       "       [46],\n",
       "       [41],\n",
       "       [34],\n",
       "       [33],\n",
       "       [36],\n",
       "       [49],\n",
       "       [43],\n",
       "       [43],\n",
       "       [34],\n",
       "       [39],\n",
       "       [35],\n",
       "       [52],\n",
       "       [47],\n",
       "       [52],\n",
       "       [39],\n",
       "       [40],\n",
       "       [42],\n",
       "       [42],\n",
       "       [53],\n",
       "       [39],\n",
       "       [40],\n",
       "       [38],\n",
       "       [44],\n",
       "       [34],\n",
       "       [37],\n",
       "       [52],\n",
       "       [48],\n",
       "       [55],\n",
       "       [50]], dtype=int64)"
      ]
     },
     "execution_count": 4,
     "metadata": {},
     "output_type": "execute_result"
    }
   ],
   "source": [
    "bb=f_birth.values\n",
    "bb"
   ]
  },
  {
   "cell_type": "code",
   "execution_count": 5,
   "metadata": {},
   "outputs": [
    {
     "data": {
      "text/plain": [
       "numpy.ndarray"
      ]
     },
     "execution_count": 5,
     "metadata": {},
     "output_type": "execute_result"
    }
   ],
   "source": [
    "type(bb)"
   ]
  },
  {
   "cell_type": "code",
   "execution_count": 6,
   "metadata": {},
   "outputs": [
    {
     "data": {
      "text/plain": [
       "365"
      ]
     },
     "execution_count": 6,
     "metadata": {},
     "output_type": "execute_result"
    }
   ],
   "source": [
    "### to get size of dataframe\n",
    "f_birth.size"
   ]
  },
  {
   "cell_type": "markdown",
   "metadata": {},
   "source": [
    "#### getting distribution of data to check whether I have any outlier or not"
   ]
  },
  {
   "cell_type": "code",
   "execution_count": 7,
   "metadata": {
    "scrolled": true
   },
   "outputs": [
    {
     "name": "stderr",
     "output_type": "stream",
     "text": [
      "C:\\Users\\user\\anaconda3\\lib\\site-packages\\seaborn\\distributions.py:2557: FutureWarning: `distplot` is a deprecated function and will be removed in a future version. Please adapt your code to use either `displot` (a figure-level function with similar flexibility) or `histplot` (an axes-level function for histograms).\n",
      "  warnings.warn(msg, FutureWarning)\n"
     ]
    },
    {
     "data": {
      "text/plain": [
       "<AxesSubplot:ylabel='Density'>"
      ]
     },
     "execution_count": 7,
     "metadata": {},
     "output_type": "execute_result"
    },
    {
     "data": {
      "image/png": "[encoded data removed]",
      "text/plain": [
       "<Figure size 432x288 with 1 Axes>"
      ]
     },
     "metadata": {
      "needs_background": "light"
     },
     "output_type": "display_data"
    }
   ],
   "source": [
    "import seaborn as sns\n",
    "sns.distplot(f_birth)"
   ]
  },
  {
   "cell_type": "code",
   "execution_count": null,
   "metadata": {},
   "outputs": [],
   "source": []
  },
  {
   "cell_type": "code",
   "execution_count": 8,
   "metadata": {},
   "outputs": [
    {
     "data": {
      "text/plain": [
       "<AxesSubplot:xlabel='date'>"
      ]
     },
     "execution_count": 8,
     "metadata": {},
     "output_type": "execute_result"
    },
    {
     "data": {
      "image/png": "[encoded data removed]",
      "text/plain": [
       "<Figure size 432x288 with 1 Axes>"
      ]
     },
     "metadata": {
      "needs_background": "light"
     },
     "output_type": "display_data"
    }
   ],
   "source": [
    "### if we want to plot with respect to time or index , we can use df.plot()\n",
    "f_birth.plot()"
   ]
  },
  {
   "cell_type": "markdown",
   "metadata": {},
   "source": [
    "#### this is somehow a very close to stationery series \n",
    "    stationery data-->> data that has no trend or that has constant mean & std dev throughout data"
   ]
  },
  {
   "cell_type": "code",
   "execution_count": null,
   "metadata": {},
   "outputs": [],
   "source": []
  },
  {
   "cell_type": "code",
   "execution_count": 9,
   "metadata": {},
   "outputs": [
    {
     "data": {
      "text/html": [
       "<div>\n",
       "<style scoped>\n",
       "    .dataframe tbody tr th:only-of-type {\n",
       "        vertical-align: middle;\n",
       "    }\n",
       "\n",
       "    .dataframe tbody tr th {\n",
       "        vertical-align: top;\n",
       "    }\n",
       "\n",
       "    .dataframe thead th {\n",
       "        text-align: right;\n",
       "    }\n",
       "</style>\n",
       "<table border=\"1\" class=\"dataframe\">\n",
       "  <thead>\n",
       "    <tr style=\"text-align: right;\">\n",
       "      <th></th>\n",
       "      <th>births</th>\n",
       "    </tr>\n",
       "  </thead>\n",
       "  <tbody>\n",
       "    <tr>\n",
       "      <th>count</th>\n",
       "      <td>365.000000</td>\n",
       "    </tr>\n",
       "    <tr>\n",
       "      <th>mean</th>\n",
       "      <td>41.980822</td>\n",
       "    </tr>\n",
       "    <tr>\n",
       "      <th>std</th>\n",
       "      <td>7.348257</td>\n",
       "    </tr>\n",
       "    <tr>\n",
       "      <th>min</th>\n",
       "      <td>23.000000</td>\n",
       "    </tr>\n",
       "    <tr>\n",
       "      <th>25%</th>\n",
       "      <td>37.000000</td>\n",
       "    </tr>\n",
       "    <tr>\n",
       "      <th>50%</th>\n",
       "      <td>42.000000</td>\n",
       "    </tr>\n",
       "    <tr>\n",
       "      <th>75%</th>\n",
       "      <td>46.000000</td>\n",
       "    </tr>\n",
       "    <tr>\n",
       "      <th>max</th>\n",
       "      <td>73.000000</td>\n",
       "    </tr>\n",
       "  </tbody>\n",
       "</table>\n",
       "</div>"
      ],
      "text/plain": [
       "           births\n",
       "count  365.000000\n",
       "mean    41.980822\n",
       "std      7.348257\n",
       "min     23.000000\n",
       "25%     37.000000\n",
       "50%     42.000000\n",
       "75%     46.000000\n",
       "max     73.000000"
      ]
     },
     "execution_count": 9,
     "metadata": {},
     "output_type": "execute_result"
    }
   ],
   "source": [
    "f_birth.describe()"
   ]
  },
  {
   "cell_type": "code",
   "execution_count": null,
   "metadata": {},
   "outputs": [],
   "source": []
  },
  {
   "cell_type": "code",
   "execution_count": 10,
   "metadata": {},
   "outputs": [
    {
     "data": {
      "text/html": [
       "<div>\n",
       "<style scoped>\n",
       "    .dataframe tbody tr th:only-of-type {\n",
       "        vertical-align: middle;\n",
       "    }\n",
       "\n",
       "    .dataframe tbody tr th {\n",
       "        vertical-align: top;\n",
       "    }\n",
       "\n",
       "    .dataframe thead th {\n",
       "        text-align: right;\n",
       "    }\n",
       "</style>\n",
       "<table border=\"1\" class=\"dataframe\">\n",
       "  <thead>\n",
       "    <tr style=\"text-align: right;\">\n",
       "      <th></th>\n",
       "      <th>births</th>\n",
       "    </tr>\n",
       "    <tr>\n",
       "      <th>date</th>\n",
       "      <th></th>\n",
       "    </tr>\n",
       "  </thead>\n",
       "  <tbody>\n",
       "    <tr>\n",
       "      <th>1959-12-27</th>\n",
       "      <td>37</td>\n",
       "    </tr>\n",
       "    <tr>\n",
       "      <th>1959-12-28</th>\n",
       "      <td>52</td>\n",
       "    </tr>\n",
       "    <tr>\n",
       "      <th>1959-12-29</th>\n",
       "      <td>48</td>\n",
       "    </tr>\n",
       "    <tr>\n",
       "      <th>1959-12-30</th>\n",
       "      <td>55</td>\n",
       "    </tr>\n",
       "    <tr>\n",
       "      <th>1959-12-31</th>\n",
       "      <td>50</td>\n",
       "    </tr>\n",
       "  </tbody>\n",
       "</table>\n",
       "</div>"
      ],
      "text/plain": [
       "            births\n",
       "date              \n",
       "1959-12-27      37\n",
       "1959-12-28      52\n",
       "1959-12-29      48\n",
       "1959-12-30      55\n",
       "1959-12-31      50"
      ]
     },
     "execution_count": 10,
     "metadata": {},
     "output_type": "execute_result"
    }
   ],
   "source": [
    "f_birth.tail()"
   ]
  },
  {
   "cell_type": "code",
   "execution_count": null,
   "metadata": {},
   "outputs": [],
   "source": []
  },
  {
   "cell_type": "markdown",
   "metadata": {},
   "source": [
    "#### Smoothening your series using moving average\n",
    "    "
   ]
  },
  {
   "cell_type": "code",
   "execution_count": 11,
   "metadata": {},
   "outputs": [],
   "source": [
    "f_birth_mean=f_birth.rolling(window=20).mean()"
   ]
  },
  {
   "cell_type": "code",
   "execution_count": 12,
   "metadata": {},
   "outputs": [
    {
     "data": {
      "text/html": [
       "<div>\n",
       "<style scoped>\n",
       "    .dataframe tbody tr th:only-of-type {\n",
       "        vertical-align: middle;\n",
       "    }\n",
       "\n",
       "    .dataframe tbody tr th {\n",
       "        vertical-align: top;\n",
       "    }\n",
       "\n",
       "    .dataframe thead th {\n",
       "        text-align: right;\n",
       "    }\n",
       "</style>\n",
       "<table border=\"1\" class=\"dataframe\">\n",
       "  <thead>\n",
       "    <tr style=\"text-align: right;\">\n",
       "      <th></th>\n",
       "      <th>births</th>\n",
       "    </tr>\n",
       "    <tr>\n",
       "      <th>date</th>\n",
       "      <th></th>\n",
       "    </tr>\n",
       "  </thead>\n",
       "  <tbody>\n",
       "    <tr>\n",
       "      <th>1959-01-01</th>\n",
       "      <td>NaN</td>\n",
       "    </tr>\n",
       "    <tr>\n",
       "      <th>1959-01-02</th>\n",
       "      <td>NaN</td>\n",
       "    </tr>\n",
       "    <tr>\n",
       "      <th>1959-01-03</th>\n",
       "      <td>NaN</td>\n",
       "    </tr>\n",
       "    <tr>\n",
       "      <th>1959-01-04</th>\n",
       "      <td>NaN</td>\n",
       "    </tr>\n",
       "    <tr>\n",
       "      <th>1959-01-05</th>\n",
       "      <td>NaN</td>\n",
       "    </tr>\n",
       "    <tr>\n",
       "      <th>1959-01-06</th>\n",
       "      <td>NaN</td>\n",
       "    </tr>\n",
       "    <tr>\n",
       "      <th>1959-01-07</th>\n",
       "      <td>NaN</td>\n",
       "    </tr>\n",
       "    <tr>\n",
       "      <th>1959-01-08</th>\n",
       "      <td>NaN</td>\n",
       "    </tr>\n",
       "    <tr>\n",
       "      <th>1959-01-09</th>\n",
       "      <td>NaN</td>\n",
       "    </tr>\n",
       "    <tr>\n",
       "      <th>1959-01-10</th>\n",
       "      <td>NaN</td>\n",
       "    </tr>\n",
       "    <tr>\n",
       "      <th>1959-01-11</th>\n",
       "      <td>NaN</td>\n",
       "    </tr>\n",
       "    <tr>\n",
       "      <th>1959-01-12</th>\n",
       "      <td>NaN</td>\n",
       "    </tr>\n",
       "    <tr>\n",
       "      <th>1959-01-13</th>\n",
       "      <td>NaN</td>\n",
       "    </tr>\n",
       "    <tr>\n",
       "      <th>1959-01-14</th>\n",
       "      <td>NaN</td>\n",
       "    </tr>\n",
       "    <tr>\n",
       "      <th>1959-01-15</th>\n",
       "      <td>NaN</td>\n",
       "    </tr>\n",
       "    <tr>\n",
       "      <th>1959-01-16</th>\n",
       "      <td>NaN</td>\n",
       "    </tr>\n",
       "    <tr>\n",
       "      <th>1959-01-17</th>\n",
       "      <td>NaN</td>\n",
       "    </tr>\n",
       "    <tr>\n",
       "      <th>1959-01-18</th>\n",
       "      <td>NaN</td>\n",
       "    </tr>\n",
       "    <tr>\n",
       "      <th>1959-01-19</th>\n",
       "      <td>NaN</td>\n",
       "    </tr>\n",
       "    <tr>\n",
       "      <th>1959-01-20</th>\n",
       "      <td>39.75</td>\n",
       "    </tr>\n",
       "    <tr>\n",
       "      <th>1959-01-21</th>\n",
       "      <td>39.70</td>\n",
       "    </tr>\n",
       "    <tr>\n",
       "      <th>1959-01-22</th>\n",
       "      <td>40.75</td>\n",
       "    </tr>\n",
       "    <tr>\n",
       "      <th>1959-01-23</th>\n",
       "      <td>41.20</td>\n",
       "    </tr>\n",
       "    <tr>\n",
       "      <th>1959-01-24</th>\n",
       "      <td>41.25</td>\n",
       "    </tr>\n",
       "    <tr>\n",
       "      <th>1959-01-25</th>\n",
       "      <td>40.90</td>\n",
       "    </tr>\n",
       "    <tr>\n",
       "      <th>1959-01-26</th>\n",
       "      <td>41.60</td>\n",
       "    </tr>\n",
       "    <tr>\n",
       "      <th>1959-01-27</th>\n",
       "      <td>41.30</td>\n",
       "    </tr>\n",
       "    <tr>\n",
       "      <th>1959-01-28</th>\n",
       "      <td>40.90</td>\n",
       "    </tr>\n",
       "    <tr>\n",
       "      <th>1959-01-29</th>\n",
       "      <td>41.20</td>\n",
       "    </tr>\n",
       "    <tr>\n",
       "      <th>1959-01-30</th>\n",
       "      <td>41.75</td>\n",
       "    </tr>\n",
       "  </tbody>\n",
       "</table>\n",
       "</div>"
      ],
      "text/plain": [
       "            births\n",
       "date              \n",
       "1959-01-01     NaN\n",
       "1959-01-02     NaN\n",
       "1959-01-03     NaN\n",
       "1959-01-04     NaN\n",
       "1959-01-05     NaN\n",
       "1959-01-06     NaN\n",
       "1959-01-07     NaN\n",
       "1959-01-08     NaN\n",
       "1959-01-09     NaN\n",
       "1959-01-10     NaN\n",
       "1959-01-11     NaN\n",
       "1959-01-12     NaN\n",
       "1959-01-13     NaN\n",
       "1959-01-14     NaN\n",
       "1959-01-15     NaN\n",
       "1959-01-16     NaN\n",
       "1959-01-17     NaN\n",
       "1959-01-18     NaN\n",
       "1959-01-19     NaN\n",
       "1959-01-20   39.75\n",
       "1959-01-21   39.70\n",
       "1959-01-22   40.75\n",
       "1959-01-23   41.20\n",
       "1959-01-24   41.25\n",
       "1959-01-25   40.90\n",
       "1959-01-26   41.60\n",
       "1959-01-27   41.30\n",
       "1959-01-28   40.90\n",
       "1959-01-29   41.20\n",
       "1959-01-30   41.75"
      ]
     },
     "execution_count": 12,
     "metadata": {},
     "output_type": "execute_result"
    }
   ],
   "source": [
    "f_birth_mean.head(30)"
   ]
  },
  {
   "cell_type": "code",
   "execution_count": 13,
   "metadata": {},
   "outputs": [
    {
     "data": {
      "text/plain": [
       "<AxesSubplot:xlabel='date'>"
      ]
     },
     "execution_count": 13,
     "metadata": {},
     "output_type": "execute_result"
    },
    {
     "data": {
      "image/png": "[encoded data removed]",
      "text/plain": [
       "<Figure size 432x288 with 1 Axes>"
      ]
     },
     "metadata": {
      "needs_background": "light"
     },
     "output_type": "display_data"
    }
   ],
   "source": [
    "### plotting moving average\n",
    "f_birth_mean.plot()"
   ]
  },
  {
   "cell_type": "markdown",
   "metadata": {},
   "source": [
    "#### in this plot, we will see we have a spike over here in OCT & then it comes down, if we will see there is a very less trend here at all\n"
   ]
  },
  {
   "cell_type": "code",
   "execution_count": 14,
   "metadata": {},
   "outputs": [
    {
     "data": {
      "text/plain": [
       "<AxesSubplot:xlabel='date'>"
      ]
     },
     "execution_count": 14,
     "metadata": {},
     "output_type": "execute_result"
    },
    {
     "data": {
      "image/png": "[encoded data removed]",
      "text/plain": [
       "<Figure size 432x288 with 1 Axes>"
      ]
     },
     "metadata": {
      "needs_background": "light"
     },
     "output_type": "display_data"
    }
   ],
   "source": [
    "f_birth.rolling(window=5).mean().plot()"
   ]
  },
  {
   "cell_type": "markdown",
   "metadata": {},
   "source": [
    "####  this technique has already used lots of time in Stock Market & stock Analyst used basically Moving average to remove such noise in data\n"
   ]
  },
  {
   "cell_type": "code",
   "execution_count": null,
   "metadata": {},
   "outputs": [],
   "source": []
  },
  {
   "cell_type": "markdown",
   "metadata": {},
   "source": [
    "#### types of models in Time-Series :\n",
    "     1.Base line model\n",
    "     2.Exponential model\n",
    "     3.AR model\n",
    "     4.MA model\n",
    "     5.ARIMA model\n",
    "     6.SARIMA model(Seasonal ARIMA)"
   ]
  },
  {
   "cell_type": "markdown",
   "metadata": {},
   "source": [
    "#### baseline model=naive model in which , we assume as lets say today no of births is somewhere around 41,so we assume as tommorow also we get 41 births\n",
    "\n",
    "     summary for baseline:--> the recent history is a best refection of the future"
   ]
  },
  {
   "cell_type": "code",
   "execution_count": null,
   "metadata": {},
   "outputs": [],
   "source": []
  },
  {
   "cell_type": "code",
   "execution_count": 15,
   "metadata": {},
   "outputs": [
    {
     "data": {
      "text/plain": [
       "date\n",
       "1959-01-01    35\n",
       "1959-01-02    32\n",
       "1959-01-03    30\n",
       "1959-01-04    31\n",
       "1959-01-05    44\n",
       "              ..\n",
       "1959-12-27    37\n",
       "1959-12-28    52\n",
       "1959-12-29    48\n",
       "1959-12-30    55\n",
       "1959-12-31    50\n",
       "Name: births, Length: 365, dtype: int64"
      ]
     },
     "execution_count": 15,
     "metadata": {},
     "output_type": "execute_result"
    }
   ],
   "source": [
    "value=f_birth['births']\n",
    "value"
   ]
  },
  {
   "cell_type": "code",
   "execution_count": 16,
   "metadata": {},
   "outputs": [
    {
     "data": {
      "text/plain": [
       "date\n",
       "1959-01-01     NaN\n",
       "1959-01-02    35.0\n",
       "1959-01-03    32.0\n",
       "1959-01-04    30.0\n",
       "1959-01-05    31.0\n",
       "              ... \n",
       "1959-12-27    34.0\n",
       "1959-12-28    37.0\n",
       "1959-12-29    52.0\n",
       "1959-12-30    48.0\n",
       "1959-12-31    55.0\n",
       "Name: births, Length: 365, dtype: float64"
      ]
     },
     "execution_count": 16,
     "metadata": {},
     "output_type": "execute_result"
    }
   ],
   "source": [
    "forecast=f_birth['births'].shift(1)\n",
    "forecast"
   ]
  },
  {
   "cell_type": "code",
   "execution_count": null,
   "metadata": {},
   "outputs": [],
   "source": []
  },
  {
   "cell_type": "code",
   "execution_count": 17,
   "metadata": {},
   "outputs": [
    {
     "data": {
      "text/html": [
       "<div>\n",
       "<style scoped>\n",
       "    .dataframe tbody tr th:only-of-type {\n",
       "        vertical-align: middle;\n",
       "    }\n",
       "\n",
       "    .dataframe tbody tr th {\n",
       "        vertical-align: top;\n",
       "    }\n",
       "\n",
       "    .dataframe thead th {\n",
       "        text-align: right;\n",
       "    }\n",
       "</style>\n",
       "<table border=\"1\" class=\"dataframe\">\n",
       "  <thead>\n",
       "    <tr style=\"text-align: right;\">\n",
       "      <th></th>\n",
       "      <th>births</th>\n",
       "      <th>births</th>\n",
       "    </tr>\n",
       "    <tr>\n",
       "      <th>date</th>\n",
       "      <th></th>\n",
       "      <th></th>\n",
       "    </tr>\n",
       "  </thead>\n",
       "  <tbody>\n",
       "    <tr>\n",
       "      <th>1959-01-01</th>\n",
       "      <td>35</td>\n",
       "      <td>NaN</td>\n",
       "    </tr>\n",
       "    <tr>\n",
       "      <th>1959-01-02</th>\n",
       "      <td>32</td>\n",
       "      <td>35.0</td>\n",
       "    </tr>\n",
       "    <tr>\n",
       "      <th>1959-01-03</th>\n",
       "      <td>30</td>\n",
       "      <td>32.0</td>\n",
       "    </tr>\n",
       "    <tr>\n",
       "      <th>1959-01-04</th>\n",
       "      <td>31</td>\n",
       "      <td>30.0</td>\n",
       "    </tr>\n",
       "    <tr>\n",
       "      <th>1959-01-05</th>\n",
       "      <td>44</td>\n",
       "      <td>31.0</td>\n",
       "    </tr>\n",
       "  </tbody>\n",
       "</table>\n",
       "</div>"
      ],
      "text/plain": [
       "            births  births\n",
       "date                      \n",
       "1959-01-01      35     NaN\n",
       "1959-01-02      32    35.0\n",
       "1959-01-03      30    32.0\n",
       "1959-01-04      31    30.0\n",
       "1959-01-05      44    31.0"
      ]
     },
     "execution_count": 17,
     "metadata": {},
     "output_type": "execute_result"
    }
   ],
   "source": [
    "birth_df=pd.concat([value,forecast],axis=1)\n",
    "birth_df.head()"
   ]
  },
  {
   "cell_type": "code",
   "execution_count": null,
   "metadata": {},
   "outputs": [],
   "source": []
  },
  {
   "cell_type": "code",
   "execution_count": 18,
   "metadata": {},
   "outputs": [],
   "source": [
    "birth_df.columns=['actual_birth','forecast_birth']"
   ]
  },
  {
   "cell_type": "code",
   "execution_count": 19,
   "metadata": {},
   "outputs": [
    {
     "data": {
      "text/html": [
       "<div>\n",
       "<style scoped>\n",
       "    .dataframe tbody tr th:only-of-type {\n",
       "        vertical-align: middle;\n",
       "    }\n",
       "\n",
       "    .dataframe tbody tr th {\n",
       "        vertical-align: top;\n",
       "    }\n",
       "\n",
       "    .dataframe thead th {\n",
       "        text-align: right;\n",
       "    }\n",
       "</style>\n",
       "<table border=\"1\" class=\"dataframe\">\n",
       "  <thead>\n",
       "    <tr style=\"text-align: right;\">\n",
       "      <th></th>\n",
       "      <th>actual_birth</th>\n",
       "      <th>forecast_birth</th>\n",
       "    </tr>\n",
       "    <tr>\n",
       "      <th>date</th>\n",
       "      <th></th>\n",
       "      <th></th>\n",
       "    </tr>\n",
       "  </thead>\n",
       "  <tbody>\n",
       "    <tr>\n",
       "      <th>1959-01-01</th>\n",
       "      <td>35</td>\n",
       "      <td>NaN</td>\n",
       "    </tr>\n",
       "    <tr>\n",
       "      <th>1959-01-02</th>\n",
       "      <td>32</td>\n",
       "      <td>35.0</td>\n",
       "    </tr>\n",
       "    <tr>\n",
       "      <th>1959-01-03</th>\n",
       "      <td>30</td>\n",
       "      <td>32.0</td>\n",
       "    </tr>\n",
       "    <tr>\n",
       "      <th>1959-01-04</th>\n",
       "      <td>31</td>\n",
       "      <td>30.0</td>\n",
       "    </tr>\n",
       "    <tr>\n",
       "      <th>1959-01-05</th>\n",
       "      <td>44</td>\n",
       "      <td>31.0</td>\n",
       "    </tr>\n",
       "    <tr>\n",
       "      <th>1959-01-06</th>\n",
       "      <td>29</td>\n",
       "      <td>44.0</td>\n",
       "    </tr>\n",
       "    <tr>\n",
       "      <th>1959-01-07</th>\n",
       "      <td>45</td>\n",
       "      <td>29.0</td>\n",
       "    </tr>\n",
       "    <tr>\n",
       "      <th>1959-01-08</th>\n",
       "      <td>43</td>\n",
       "      <td>45.0</td>\n",
       "    </tr>\n",
       "    <tr>\n",
       "      <th>1959-01-09</th>\n",
       "      <td>38</td>\n",
       "      <td>43.0</td>\n",
       "    </tr>\n",
       "    <tr>\n",
       "      <th>1959-01-10</th>\n",
       "      <td>27</td>\n",
       "      <td>38.0</td>\n",
       "    </tr>\n",
       "    <tr>\n",
       "      <th>1959-01-11</th>\n",
       "      <td>38</td>\n",
       "      <td>27.0</td>\n",
       "    </tr>\n",
       "    <tr>\n",
       "      <th>1959-01-12</th>\n",
       "      <td>33</td>\n",
       "      <td>38.0</td>\n",
       "    </tr>\n",
       "    <tr>\n",
       "      <th>1959-01-13</th>\n",
       "      <td>55</td>\n",
       "      <td>33.0</td>\n",
       "    </tr>\n",
       "    <tr>\n",
       "      <th>1959-01-14</th>\n",
       "      <td>47</td>\n",
       "      <td>55.0</td>\n",
       "    </tr>\n",
       "    <tr>\n",
       "      <th>1959-01-15</th>\n",
       "      <td>45</td>\n",
       "      <td>47.0</td>\n",
       "    </tr>\n",
       "    <tr>\n",
       "      <th>1959-01-16</th>\n",
       "      <td>37</td>\n",
       "      <td>45.0</td>\n",
       "    </tr>\n",
       "    <tr>\n",
       "      <th>1959-01-17</th>\n",
       "      <td>50</td>\n",
       "      <td>37.0</td>\n",
       "    </tr>\n",
       "    <tr>\n",
       "      <th>1959-01-18</th>\n",
       "      <td>43</td>\n",
       "      <td>50.0</td>\n",
       "    </tr>\n",
       "    <tr>\n",
       "      <th>1959-01-19</th>\n",
       "      <td>41</td>\n",
       "      <td>43.0</td>\n",
       "    </tr>\n",
       "    <tr>\n",
       "      <th>1959-01-20</th>\n",
       "      <td>52</td>\n",
       "      <td>41.0</td>\n",
       "    </tr>\n",
       "  </tbody>\n",
       "</table>\n",
       "</div>"
      ],
      "text/plain": [
       "            actual_birth  forecast_birth\n",
       "date                                    \n",
       "1959-01-01            35             NaN\n",
       "1959-01-02            32            35.0\n",
       "1959-01-03            30            32.0\n",
       "1959-01-04            31            30.0\n",
       "1959-01-05            44            31.0\n",
       "1959-01-06            29            44.0\n",
       "1959-01-07            45            29.0\n",
       "1959-01-08            43            45.0\n",
       "1959-01-09            38            43.0\n",
       "1959-01-10            27            38.0\n",
       "1959-01-11            38            27.0\n",
       "1959-01-12            33            38.0\n",
       "1959-01-13            55            33.0\n",
       "1959-01-14            47            55.0\n",
       "1959-01-15            45            47.0\n",
       "1959-01-16            37            45.0\n",
       "1959-01-17            50            37.0\n",
       "1959-01-18            43            50.0\n",
       "1959-01-19            41            43.0\n",
       "1959-01-20            52            41.0"
      ]
     },
     "execution_count": 19,
     "metadata": {},
     "output_type": "execute_result"
    }
   ],
   "source": [
    "birth_df.head(20)"
   ]
  },
  {
   "cell_type": "code",
   "execution_count": null,
   "metadata": {},
   "outputs": [],
   "source": []
  },
  {
   "cell_type": "markdown",
   "metadata": {},
   "source": [
    "#### Once we have done this, now we have to identify errors so there are 2 ways to figure out the error\n",
    "     1.Either u can figure it out on complete dataset\n",
    "     2.or we can use train_test_split to split data \n",
    "     \n",
    "    but here train_test_split doesnt makes sense bcz this is a naive model,where previous value is used for current value\n",
    "    I will use both the approches, and its upto u what we exactly you want.. \n",
    "    if data is small, like we have 300 observations Then we will prefer first..\n",
    "    but if it is having lets say 30000 entries , then in such case we just take a partial data by doing some sampling or directly taking it & then go ahead & use the error.. \n",
    "\n",
    "    we can computer error by importing mean_squared_error module\n"
   ]
  },
  {
   "cell_type": "code",
   "execution_count": 20,
   "metadata": {},
   "outputs": [],
   "source": [
    "from sklearn.metrics import mean_squared_error"
   ]
  },
  {
   "cell_type": "code",
   "execution_count": 21,
   "metadata": {},
   "outputs": [
    {
     "data": {
      "text/plain": [
       "9.177283229394606"
      ]
     },
     "execution_count": 21,
     "metadata": {},
     "output_type": "execute_result"
    }
   ],
   "source": [
    "### then check accuracy\n",
    "np.sqrt(mean_squared_error(birth_df['forecast_birth'][1:],birth_df['actual_birth'][1:]))"
   ]
  },
  {
   "cell_type": "markdown",
   "metadata": {},
   "source": [
    "#### if we have outlier in data, This error will increase, dats why we have to deal with outlier"
   ]
  },
  {
   "cell_type": "markdown",
   "metadata": {},
   "source": [
    "#### using Base-line, we can say using this basic technique we are getting error of 9 births every day, it means error of +-9 is going to happen in your prediction"
   ]
  },
  {
   "cell_type": "markdown",
   "metadata": {},
   "source": [
    "### Lets come to other algos like ARIMA "
   ]
  },
  {
   "cell_type": "code",
   "execution_count": 22,
   "metadata": {},
   "outputs": [],
   "source": [
    "\n",
    "from statsmodels.graphics.tsaplots import plot_acf,plot_pacf\n",
    "from statsmodels.graphics.api import qqplot"
   ]
  },
  {
   "cell_type": "markdown",
   "metadata": {},
   "source": [
    "#### to get your q value for your ARIMA ,i am going to visualise Auto-corelation chart"
   ]
  },
  {
   "cell_type": "code",
   "execution_count": 23,
   "metadata": {},
   "outputs": [
    {
     "data": {
      "image/png": "[encoded data removed]",
      "text/plain": [
       "<Figure size 432x288 with 1 Axes>"
      ]
     },
     "execution_count": 23,
     "metadata": {},
     "output_type": "execute_result"
    },
    {
     "data": {
      "image/png": "[encoded data removed]",
      "text/plain": [
       "<Figure size 432x288 with 1 Axes>"
      ]
     },
     "metadata": {
      "needs_background": "light"
     },
     "output_type": "display_data"
    }
   ],
   "source": [
    "plot_acf(f_birth['births']) ## p=2,3"
   ]
  },
  {
   "cell_type": "code",
   "execution_count": 24,
   "metadata": {},
   "outputs": [
    {
     "data": {
      "image/png": "[encoded data removed]",
      "text/plain": [
       "<Figure size 432x288 with 1 Axes>"
      ]
     },
     "execution_count": 24,
     "metadata": {},
     "output_type": "execute_result"
    },
    {
     "data": {
      "image/png": "[encoded data removed]",
      "text/plain": [
       "<Figure size 432x288 with 1 Axes>"
      ]
     },
     "metadata": {
      "needs_background": "light"
     },
     "output_type": "display_data"
    }
   ],
   "source": [
    "plot_pacf(f_birth) ## gives value of q=(3,4)"
   ]
  },
  {
   "cell_type": "raw",
   "metadata": {},
   "source": [
    "### d=0 as data is already stationery here"
   ]
  },
  {
   "cell_type": "code",
   "execution_count": 25,
   "metadata": {},
   "outputs": [],
   "source": [
    "training_data=f_birth[0:320]\n",
    "test_data=f_birth[320:]\n",
    "### create test that is basically unseen to our model, or which is basically is used for evalaution"
   ]
  },
  {
   "cell_type": "code",
   "execution_count": 26,
   "metadata": {},
   "outputs": [
    {
     "data": {
      "text/plain": [
       "320"
      ]
     },
     "execution_count": 26,
     "metadata": {},
     "output_type": "execute_result"
    }
   ],
   "source": [
    "training_data.size"
   ]
  },
  {
   "cell_type": "code",
   "execution_count": 27,
   "metadata": {},
   "outputs": [
    {
     "data": {
      "text/plain": [
       "45"
      ]
     },
     "execution_count": 27,
     "metadata": {},
     "output_type": "execute_result"
    }
   ],
   "source": [
    "test_data.size"
   ]
  },
  {
   "cell_type": "code",
   "execution_count": 28,
   "metadata": {},
   "outputs": [],
   "source": [
    "from statsmodels.tsa.arima_model import ARIMA"
   ]
  },
  {
   "cell_type": "code",
   "execution_count": 29,
   "metadata": {},
   "outputs": [
    {
     "name": "stderr",
     "output_type": "stream",
     "text": [
      "C:\\Users\\user\\anaconda3\\lib\\site-packages\\statsmodels\\tsa\\arima_model.py:472: FutureWarning: \n",
      "statsmodels.tsa.arima_model.ARMA and statsmodels.tsa.arima_model.ARIMA have\n",
      "been deprecated in favor of statsmodels.tsa.arima.model.ARIMA (note the .\n",
      "between arima and model) and\n",
      "statsmodels.tsa.SARIMAX. These will be removed after the 0.12 release.\n",
      "\n",
      "statsmodels.tsa.arima.model.ARIMA makes use of the statespace framework and\n",
      "is both well tested and maintained.\n",
      "\n",
      "To silence this warning and continue using ARMA and ARIMA until they are\n",
      "removed, use:\n",
      "\n",
      "import warnings\n",
      "warnings.filterwarnings('ignore', 'statsmodels.tsa.arima_model.ARMA',\n",
      "                        FutureWarning)\n",
      "warnings.filterwarnings('ignore', 'statsmodels.tsa.arima_model.ARIMA',\n",
      "                        FutureWarning)\n",
      "\n",
      "  warnings.warn(ARIMA_DEPRECATION_WARN, FutureWarning)\n",
      "C:\\Users\\user\\anaconda3\\lib\\site-packages\\statsmodels\\tsa\\base\\tsa_model.py:524: ValueWarning: No frequency information was provided, so inferred frequency D will be used.\n",
      "  warnings.warn('No frequency information was'\n",
      "C:\\Users\\user\\anaconda3\\lib\\site-packages\\statsmodels\\tsa\\base\\tsa_model.py:524: ValueWarning: No frequency information was provided, so inferred frequency D will be used.\n",
      "  warnings.warn('No frequency information was'\n"
     ]
    }
   ],
   "source": [
    "### arima= ARIMA(training_data,order=(p,d,q))\n",
    "\n",
    "arima= ARIMA(training_data,order=(2,1,3))"
   ]
  },
  {
   "cell_type": "code",
   "execution_count": 30,
   "metadata": {},
   "outputs": [
    {
     "name": "stderr",
     "output_type": "stream",
     "text": [
      "C:\\Users\\user\\anaconda3\\lib\\site-packages\\statsmodels\\tsa\\arima_model.py:472: FutureWarning: \n",
      "statsmodels.tsa.arima_model.ARMA and statsmodels.tsa.arima_model.ARIMA have\n",
      "been deprecated in favor of statsmodels.tsa.arima.model.ARIMA (note the .\n",
      "between arima and model) and\n",
      "statsmodels.tsa.SARIMAX. These will be removed after the 0.12 release.\n",
      "\n",
      "statsmodels.tsa.arima.model.ARIMA makes use of the statespace framework and\n",
      "is both well tested and maintained.\n",
      "\n",
      "To silence this warning and continue using ARMA and ARIMA until they are\n",
      "removed, use:\n",
      "\n",
      "import warnings\n",
      "warnings.filterwarnings('ignore', 'statsmodels.tsa.arima_model.ARMA',\n",
      "                        FutureWarning)\n",
      "warnings.filterwarnings('ignore', 'statsmodels.tsa.arima_model.ARIMA',\n",
      "                        FutureWarning)\n",
      "\n",
      "  warnings.warn(ARIMA_DEPRECATION_WARN, FutureWarning)\n"
     ]
    }
   ],
   "source": [
    "### fitting our data to model..\n",
    "\n",
    "model=arima.fit()"
   ]
  },
  {
   "cell_type": "code",
   "execution_count": 31,
   "metadata": {},
   "outputs": [
    {
     "data": {
      "text/plain": [
       "2164.700027352583"
      ]
     },
     "execution_count": 31,
     "metadata": {},
     "output_type": "execute_result"
    }
   ],
   "source": [
    "model.aic"
   ]
  },
  {
   "cell_type": "code",
   "execution_count": 32,
   "metadata": {},
   "outputs": [],
   "source": [
    "pred= model.forecast(steps=45)[0]"
   ]
  },
  {
   "cell_type": "code",
   "execution_count": 33,
   "metadata": {},
   "outputs": [
    {
     "data": {
      "text/plain": [
       "array([43.11697906, 44.26295921, 43.64704699, 43.03632592, 44.07960622,\n",
       "       43.97587184, 43.10809857, 43.84702386, 44.19528888, 43.30173508,\n",
       "       43.63322205, 44.28708808, 43.56582629, 43.49083214, 44.26329184,\n",
       "       43.84255494, 43.44846779, 44.15853607, 44.08108433, 43.50864764,\n",
       "       44.01890869, 44.24722003, 43.65162438, 43.89021578, 44.32790999,\n",
       "       43.84331647, 43.8082709 , 44.33048788, 44.0449665 , 43.79293755,\n",
       "       44.27770037, 44.22217973, 43.84656612, 44.20028297, 44.35152125,\n",
       "       43.95642311, 44.12907602, 44.42367468, 44.0999272 , 44.08843737,\n",
       "       44.44306475, 44.25110713, 44.09213804, 44.42461596, 44.3867014 ])"
      ]
     },
     "execution_count": 33,
     "metadata": {},
     "output_type": "execute_result"
    }
   ],
   "source": [
    "pred"
   ]
  },
  {
   "cell_type": "code",
   "execution_count": 34,
   "metadata": {},
   "outputs": [
    {
     "data": {
      "text/html": [
       "<div>\n",
       "<style scoped>\n",
       "    .dataframe tbody tr th:only-of-type {\n",
       "        vertical-align: middle;\n",
       "    }\n",
       "\n",
       "    .dataframe tbody tr th {\n",
       "        vertical-align: top;\n",
       "    }\n",
       "\n",
       "    .dataframe thead th {\n",
       "        text-align: right;\n",
       "    }\n",
       "</style>\n",
       "<table border=\"1\" class=\"dataframe\">\n",
       "  <thead>\n",
       "    <tr style=\"text-align: right;\">\n",
       "      <th></th>\n",
       "      <th>births</th>\n",
       "    </tr>\n",
       "    <tr>\n",
       "      <th>date</th>\n",
       "      <th></th>\n",
       "    </tr>\n",
       "  </thead>\n",
       "  <tbody>\n",
       "    <tr>\n",
       "      <th>1959-11-17</th>\n",
       "      <td>33</td>\n",
       "    </tr>\n",
       "    <tr>\n",
       "      <th>1959-11-18</th>\n",
       "      <td>42</td>\n",
       "    </tr>\n",
       "    <tr>\n",
       "      <th>1959-11-19</th>\n",
       "      <td>47</td>\n",
       "    </tr>\n",
       "    <tr>\n",
       "      <th>1959-11-20</th>\n",
       "      <td>51</td>\n",
       "    </tr>\n",
       "    <tr>\n",
       "      <th>1959-11-21</th>\n",
       "      <td>44</td>\n",
       "    </tr>\n",
       "    <tr>\n",
       "      <th>1959-11-22</th>\n",
       "      <td>40</td>\n",
       "    </tr>\n",
       "    <tr>\n",
       "      <th>1959-11-23</th>\n",
       "      <td>57</td>\n",
       "    </tr>\n",
       "    <tr>\n",
       "      <th>1959-11-24</th>\n",
       "      <td>49</td>\n",
       "    </tr>\n",
       "    <tr>\n",
       "      <th>1959-11-25</th>\n",
       "      <td>45</td>\n",
       "    </tr>\n",
       "    <tr>\n",
       "      <th>1959-11-26</th>\n",
       "      <td>49</td>\n",
       "    </tr>\n",
       "    <tr>\n",
       "      <th>1959-11-27</th>\n",
       "      <td>51</td>\n",
       "    </tr>\n",
       "    <tr>\n",
       "      <th>1959-11-28</th>\n",
       "      <td>46</td>\n",
       "    </tr>\n",
       "    <tr>\n",
       "      <th>1959-11-29</th>\n",
       "      <td>44</td>\n",
       "    </tr>\n",
       "    <tr>\n",
       "      <th>1959-11-30</th>\n",
       "      <td>52</td>\n",
       "    </tr>\n",
       "    <tr>\n",
       "      <th>1959-12-01</th>\n",
       "      <td>45</td>\n",
       "    </tr>\n",
       "    <tr>\n",
       "      <th>1959-12-02</th>\n",
       "      <td>32</td>\n",
       "    </tr>\n",
       "    <tr>\n",
       "      <th>1959-12-03</th>\n",
       "      <td>46</td>\n",
       "    </tr>\n",
       "    <tr>\n",
       "      <th>1959-12-04</th>\n",
       "      <td>41</td>\n",
       "    </tr>\n",
       "    <tr>\n",
       "      <th>1959-12-05</th>\n",
       "      <td>34</td>\n",
       "    </tr>\n",
       "    <tr>\n",
       "      <th>1959-12-06</th>\n",
       "      <td>33</td>\n",
       "    </tr>\n",
       "    <tr>\n",
       "      <th>1959-12-07</th>\n",
       "      <td>36</td>\n",
       "    </tr>\n",
       "    <tr>\n",
       "      <th>1959-12-08</th>\n",
       "      <td>49</td>\n",
       "    </tr>\n",
       "    <tr>\n",
       "      <th>1959-12-09</th>\n",
       "      <td>43</td>\n",
       "    </tr>\n",
       "    <tr>\n",
       "      <th>1959-12-10</th>\n",
       "      <td>43</td>\n",
       "    </tr>\n",
       "    <tr>\n",
       "      <th>1959-12-11</th>\n",
       "      <td>34</td>\n",
       "    </tr>\n",
       "    <tr>\n",
       "      <th>1959-12-12</th>\n",
       "      <td>39</td>\n",
       "    </tr>\n",
       "    <tr>\n",
       "      <th>1959-12-13</th>\n",
       "      <td>35</td>\n",
       "    </tr>\n",
       "    <tr>\n",
       "      <th>1959-12-14</th>\n",
       "      <td>52</td>\n",
       "    </tr>\n",
       "    <tr>\n",
       "      <th>1959-12-15</th>\n",
       "      <td>47</td>\n",
       "    </tr>\n",
       "    <tr>\n",
       "      <th>1959-12-16</th>\n",
       "      <td>52</td>\n",
       "    </tr>\n",
       "    <tr>\n",
       "      <th>1959-12-17</th>\n",
       "      <td>39</td>\n",
       "    </tr>\n",
       "    <tr>\n",
       "      <th>1959-12-18</th>\n",
       "      <td>40</td>\n",
       "    </tr>\n",
       "    <tr>\n",
       "      <th>1959-12-19</th>\n",
       "      <td>42</td>\n",
       "    </tr>\n",
       "    <tr>\n",
       "      <th>1959-12-20</th>\n",
       "      <td>42</td>\n",
       "    </tr>\n",
       "    <tr>\n",
       "      <th>1959-12-21</th>\n",
       "      <td>53</td>\n",
       "    </tr>\n",
       "    <tr>\n",
       "      <th>1959-12-22</th>\n",
       "      <td>39</td>\n",
       "    </tr>\n",
       "    <tr>\n",
       "      <th>1959-12-23</th>\n",
       "      <td>40</td>\n",
       "    </tr>\n",
       "    <tr>\n",
       "      <th>1959-12-24</th>\n",
       "      <td>38</td>\n",
       "    </tr>\n",
       "    <tr>\n",
       "      <th>1959-12-25</th>\n",
       "      <td>44</td>\n",
       "    </tr>\n",
       "    <tr>\n",
       "      <th>1959-12-26</th>\n",
       "      <td>34</td>\n",
       "    </tr>\n",
       "    <tr>\n",
       "      <th>1959-12-27</th>\n",
       "      <td>37</td>\n",
       "    </tr>\n",
       "    <tr>\n",
       "      <th>1959-12-28</th>\n",
       "      <td>52</td>\n",
       "    </tr>\n",
       "    <tr>\n",
       "      <th>1959-12-29</th>\n",
       "      <td>48</td>\n",
       "    </tr>\n",
       "    <tr>\n",
       "      <th>1959-12-30</th>\n",
       "      <td>55</td>\n",
       "    </tr>\n",
       "    <tr>\n",
       "      <th>1959-12-31</th>\n",
       "      <td>50</td>\n",
       "    </tr>\n",
       "  </tbody>\n",
       "</table>\n",
       "</div>"
      ],
      "text/plain": [
       "            births\n",
       "date              \n",
       "1959-11-17      33\n",
       "1959-11-18      42\n",
       "1959-11-19      47\n",
       "1959-11-20      51\n",
       "1959-11-21      44\n",
       "1959-11-22      40\n",
       "1959-11-23      57\n",
       "1959-11-24      49\n",
       "1959-11-25      45\n",
       "1959-11-26      49\n",
       "1959-11-27      51\n",
       "1959-11-28      46\n",
       "1959-11-29      44\n",
       "1959-11-30      52\n",
       "1959-12-01      45\n",
       "1959-12-02      32\n",
       "1959-12-03      46\n",
       "1959-12-04      41\n",
       "1959-12-05      34\n",
       "1959-12-06      33\n",
       "1959-12-07      36\n",
       "1959-12-08      49\n",
       "1959-12-09      43\n",
       "1959-12-10      43\n",
       "1959-12-11      34\n",
       "1959-12-12      39\n",
       "1959-12-13      35\n",
       "1959-12-14      52\n",
       "1959-12-15      47\n",
       "1959-12-16      52\n",
       "1959-12-17      39\n",
       "1959-12-18      40\n",
       "1959-12-19      42\n",
       "1959-12-20      42\n",
       "1959-12-21      53\n",
       "1959-12-22      39\n",
       "1959-12-23      40\n",
       "1959-12-24      38\n",
       "1959-12-25      44\n",
       "1959-12-26      34\n",
       "1959-12-27      37\n",
       "1959-12-28      52\n",
       "1959-12-29      48\n",
       "1959-12-30      55\n",
       "1959-12-31      50"
      ]
     },
     "execution_count": 34,
     "metadata": {},
     "output_type": "execute_result"
    }
   ],
   "source": [
    "test_data"
   ]
  },
  {
   "cell_type": "code",
   "execution_count": 35,
   "metadata": {},
   "outputs": [],
   "source": [
    "#### now we can compare our prediction in some cases, we are doing very well whereas in some cases, we are not doing good prediction"
   ]
  },
  {
   "cell_type": "code",
   "execution_count": 36,
   "metadata": {},
   "outputs": [
    {
     "data": {
      "text/plain": [
       "6.612991942427509"
      ]
     },
     "execution_count": 36,
     "metadata": {},
     "output_type": "execute_result"
    }
   ],
   "source": [
    "np.sqrt(mean_squared_error(test_data,pred))"
   ]
  },
  {
   "cell_type": "code",
   "execution_count": null,
   "metadata": {},
   "outputs": [],
   "source": []
  },
  {
   "cell_type": "markdown",
   "metadata": {},
   "source": [
    "#### now u will see it is better than the model that we have created as Error decreases from 9 to 6.6"
   ]
  },
  {
   "cell_type": "markdown",
   "metadata": {},
   "source": [
    "### and in the future we are going to play with diff pairs of (P,d,q) or we can choose best pair by just automating it using Hyperparameter tuning"
   ]
  },
  {
   "cell_type": "code",
   "execution_count": null,
   "metadata": {},
   "outputs": [],
   "source": []
  },
  {
   "cell_type": "code",
   "execution_count": null,
   "metadata": {},
   "outputs": [],
   "source": []
  },
  {
   "cell_type": "markdown",
   "metadata": {},
   "source": [
    "### -->> another way of improving your model is by just normalizing & standarizing data"
   ]
  },
  {
   "cell_type": "code",
   "execution_count": 37,
   "metadata": {},
   "outputs": [
    {
     "data": {
      "text/html": [
       "<div>\n",
       "<style scoped>\n",
       "    .dataframe tbody tr th:only-of-type {\n",
       "        vertical-align: middle;\n",
       "    }\n",
       "\n",
       "    .dataframe tbody tr th {\n",
       "        vertical-align: top;\n",
       "    }\n",
       "\n",
       "    .dataframe thead th {\n",
       "        text-align: right;\n",
       "    }\n",
       "</style>\n",
       "<table border=\"1\" class=\"dataframe\">\n",
       "  <thead>\n",
       "    <tr style=\"text-align: right;\">\n",
       "      <th></th>\n",
       "      <th>births</th>\n",
       "    </tr>\n",
       "    <tr>\n",
       "      <th>date</th>\n",
       "      <th></th>\n",
       "    </tr>\n",
       "  </thead>\n",
       "  <tbody>\n",
       "    <tr>\n",
       "      <th>1959-01-01</th>\n",
       "      <td>35</td>\n",
       "    </tr>\n",
       "    <tr>\n",
       "      <th>1959-01-02</th>\n",
       "      <td>32</td>\n",
       "    </tr>\n",
       "    <tr>\n",
       "      <th>1959-01-03</th>\n",
       "      <td>30</td>\n",
       "    </tr>\n",
       "    <tr>\n",
       "      <th>1959-01-04</th>\n",
       "      <td>31</td>\n",
       "    </tr>\n",
       "    <tr>\n",
       "      <th>1959-01-05</th>\n",
       "      <td>44</td>\n",
       "    </tr>\n",
       "  </tbody>\n",
       "</table>\n",
       "</div>"
      ],
      "text/plain": [
       "            births\n",
       "date              \n",
       "1959-01-01      35\n",
       "1959-01-02      32\n",
       "1959-01-03      30\n",
       "1959-01-04      31\n",
       "1959-01-05      44"
      ]
     },
     "execution_count": 37,
     "metadata": {},
     "output_type": "execute_result"
    }
   ],
   "source": [
    "f_birth.head()"
   ]
  },
  {
   "cell_type": "markdown",
   "metadata": {},
   "source": [
    "#### Normalization- useful in 2 cases- \n",
    "      1. if ur data is on different scale, Lets say height of 100 students are on different scale then in such scenario, we can bring our data to same scale,after normalize our data comes in a range of [0,1]\n",
    "      \n",
    "      2.bcz some algo works better work better if ur data is normalized lets say Linear Regression, Logistic Regression"
   ]
  },
  {
   "cell_type": "markdown",
   "metadata": {},
   "source": [
    "#### normalization= (xi-min) / (max-min), \n",
    "    we can create our own function to perform normalization but scikit-learn provides us in-built classesfunc to perform \n",
    "    normalization"
   ]
  },
  {
   "cell_type": "code",
   "execution_count": 38,
   "metadata": {},
   "outputs": [
    {
     "data": {
      "text/plain": [
       "births    23\n",
       "dtype: int64"
      ]
     },
     "execution_count": 38,
     "metadata": {},
     "output_type": "execute_result"
    }
   ],
   "source": [
    "f_birth.min()"
   ]
  },
  {
   "cell_type": "code",
   "execution_count": 39,
   "metadata": {},
   "outputs": [
    {
     "data": {
      "text/plain": [
       "births    73\n",
       "dtype: int64"
      ]
     },
     "execution_count": 39,
     "metadata": {},
     "output_type": "execute_result"
    }
   ],
   "source": [
    "f_birth.max()"
   ]
  },
  {
   "cell_type": "code",
   "execution_count": 40,
   "metadata": {},
   "outputs": [
    {
     "data": {
      "text/html": [
       "<div>\n",
       "<style scoped>\n",
       "    .dataframe tbody tr th:only-of-type {\n",
       "        vertical-align: middle;\n",
       "    }\n",
       "\n",
       "    .dataframe tbody tr th {\n",
       "        vertical-align: top;\n",
       "    }\n",
       "\n",
       "    .dataframe thead th {\n",
       "        text-align: right;\n",
       "    }\n",
       "</style>\n",
       "<table border=\"1\" class=\"dataframe\">\n",
       "  <thead>\n",
       "    <tr style=\"text-align: right;\">\n",
       "      <th></th>\n",
       "      <th>births</th>\n",
       "    </tr>\n",
       "    <tr>\n",
       "      <th>date</th>\n",
       "      <th></th>\n",
       "    </tr>\n",
       "  </thead>\n",
       "  <tbody>\n",
       "    <tr>\n",
       "      <th>1959-01-01</th>\n",
       "      <td>35</td>\n",
       "    </tr>\n",
       "    <tr>\n",
       "      <th>1959-01-02</th>\n",
       "      <td>32</td>\n",
       "    </tr>\n",
       "    <tr>\n",
       "      <th>1959-01-03</th>\n",
       "      <td>30</td>\n",
       "    </tr>\n",
       "    <tr>\n",
       "      <th>1959-01-04</th>\n",
       "      <td>31</td>\n",
       "    </tr>\n",
       "    <tr>\n",
       "      <th>1959-01-05</th>\n",
       "      <td>44</td>\n",
       "    </tr>\n",
       "    <tr>\n",
       "      <th>...</th>\n",
       "      <td>...</td>\n",
       "    </tr>\n",
       "    <tr>\n",
       "      <th>1959-12-27</th>\n",
       "      <td>37</td>\n",
       "    </tr>\n",
       "    <tr>\n",
       "      <th>1959-12-28</th>\n",
       "      <td>52</td>\n",
       "    </tr>\n",
       "    <tr>\n",
       "      <th>1959-12-29</th>\n",
       "      <td>48</td>\n",
       "    </tr>\n",
       "    <tr>\n",
       "      <th>1959-12-30</th>\n",
       "      <td>55</td>\n",
       "    </tr>\n",
       "    <tr>\n",
       "      <th>1959-12-31</th>\n",
       "      <td>50</td>\n",
       "    </tr>\n",
       "  </tbody>\n",
       "</table>\n",
       "<p>365 rows × 1 columns</p>\n",
       "</div>"
      ],
      "text/plain": [
       "            births\n",
       "date              \n",
       "1959-01-01      35\n",
       "1959-01-02      32\n",
       "1959-01-03      30\n",
       "1959-01-04      31\n",
       "1959-01-05      44\n",
       "...            ...\n",
       "1959-12-27      37\n",
       "1959-12-28      52\n",
       "1959-12-29      48\n",
       "1959-12-30      55\n",
       "1959-12-31      50\n",
       "\n",
       "[365 rows x 1 columns]"
      ]
     },
     "execution_count": 40,
     "metadata": {},
     "output_type": "execute_result"
    }
   ],
   "source": [
    "f_birth"
   ]
  },
  {
   "cell_type": "code",
   "execution_count": 41,
   "metadata": {},
   "outputs": [
    {
     "data": {
      "text/plain": [
       "0.24489795918367346"
      ]
     },
     "execution_count": 41,
     "metadata": {},
     "output_type": "execute_result"
    }
   ],
   "source": [
    "(35-23)/(72-23)"
   ]
  },
  {
   "cell_type": "markdown",
   "metadata": {},
   "source": [
    "##### 35 getting normalized to 0.24489"
   ]
  },
  {
   "cell_type": "code",
   "execution_count": null,
   "metadata": {},
   "outputs": [],
   "source": []
  },
  {
   "cell_type": "code",
   "execution_count": 42,
   "metadata": {},
   "outputs": [],
   "source": [
    "from sklearn.preprocessing import MinMaxScaler"
   ]
  },
  {
   "cell_type": "code",
   "execution_count": 43,
   "metadata": {},
   "outputs": [],
   "source": [
    "data=f_birth.values"
   ]
  },
  {
   "cell_type": "markdown",
   "metadata": {},
   "source": [
    "###### as MinMaxScaler receives Data in the form of array"
   ]
  },
  {
   "cell_type": "code",
   "execution_count": 44,
   "metadata": {},
   "outputs": [],
   "source": [
    "scaler=MinMaxScaler()"
   ]
  },
  {
   "cell_type": "code",
   "execution_count": 45,
   "metadata": {},
   "outputs": [],
   "source": [
    "birth_normalize=scaler.fit_transform(f_birth)"
   ]
  },
  {
   "cell_type": "code",
   "execution_count": 46,
   "metadata": {},
   "outputs": [
    {
     "data": {
      "text/plain": [
       "array([[0.24],\n",
       "       [0.18],\n",
       "       [0.14],\n",
       "       [0.16],\n",
       "       [0.42],\n",
       "       [0.12],\n",
       "       [0.44],\n",
       "       [0.4 ],\n",
       "       [0.3 ],\n",
       "       [0.08],\n",
       "       [0.3 ],\n",
       "       [0.2 ],\n",
       "       [0.64],\n",
       "       [0.48],\n",
       "       [0.44],\n",
       "       [0.28],\n",
       "       [0.54],\n",
       "       [0.4 ],\n",
       "       [0.36],\n",
       "       [0.58],\n",
       "       [0.22],\n",
       "       [0.6 ],\n",
       "       [0.32],\n",
       "       [0.18],\n",
       "       [0.28],\n",
       "       [0.4 ],\n",
       "       [0.32],\n",
       "       [0.24],\n",
       "       [0.42],\n",
       "       [0.3 ],\n",
       "       [0.02],\n",
       "       [0.  ],\n",
       "       [0.16],\n",
       "       [0.42],\n",
       "       [0.3 ],\n",
       "       [0.54],\n",
       "       [0.3 ],\n",
       "       [0.56],\n",
       "       [0.16],\n",
       "       [0.16],\n",
       "       [0.56],\n",
       "       [0.26],\n",
       "       [0.44],\n",
       "       [0.56],\n",
       "       [0.22],\n",
       "       [0.58],\n",
       "       [0.48],\n",
       "       [0.44],\n",
       "       [0.46],\n",
       "       [0.32],\n",
       "       [0.5 ],\n",
       "       [0.28],\n",
       "       [0.24],\n",
       "       [0.58],\n",
       "       [0.38],\n",
       "       [0.44],\n",
       "       [0.32],\n",
       "       [0.28],\n",
       "       [0.14],\n",
       "       [0.24],\n",
       "       [0.1 ],\n",
       "       [0.44],\n",
       "       [0.22],\n",
       "       [0.26],\n",
       "       [0.54],\n",
       "       [0.42],\n",
       "       [0.32],\n",
       "       [0.18],\n",
       "       [0.32],\n",
       "       [0.44],\n",
       "       [0.4 ],\n",
       "       [0.32],\n",
       "       [0.16],\n",
       "       [0.08],\n",
       "       [0.14],\n",
       "       [0.38],\n",
       "       [0.46],\n",
       "       [0.36],\n",
       "       [0.26],\n",
       "       [0.44],\n",
       "       [0.46],\n",
       "       [0.4 ],\n",
       "       [0.3 ],\n",
       "       [0.22],\n",
       "       [0.24],\n",
       "       [0.66],\n",
       "       [0.26],\n",
       "       [0.18],\n",
       "       [0.54],\n",
       "       [0.36],\n",
       "       [0.32],\n",
       "       [0.36],\n",
       "       [0.48],\n",
       "       [0.22],\n",
       "       [0.26],\n",
       "       [0.2 ],\n",
       "       [0.24],\n",
       "       [0.3 ],\n",
       "       [0.3 ],\n",
       "       [0.22],\n",
       "       [0.6 ],\n",
       "       [0.22],\n",
       "       [0.22],\n",
       "       [0.3 ],\n",
       "       [0.24],\n",
       "       [0.18],\n",
       "       [0.38],\n",
       "       [0.22],\n",
       "       [0.46],\n",
       "       [0.14],\n",
       "       [0.46],\n",
       "       [0.44],\n",
       "       [0.62],\n",
       "       [0.22],\n",
       "       [0.28],\n",
       "       [0.24],\n",
       "       [0.34],\n",
       "       [0.38],\n",
       "       [0.7 ],\n",
       "       [0.56],\n",
       "       [0.18],\n",
       "       [0.24],\n",
       "       [0.3 ],\n",
       "       [0.2 ],\n",
       "       [0.32],\n",
       "       [0.48],\n",
       "       [0.3 ],\n",
       "       [0.58],\n",
       "       [0.14],\n",
       "       [0.22],\n",
       "       [0.34],\n",
       "       [0.24],\n",
       "       [0.38],\n",
       "       [0.36],\n",
       "       [0.38],\n",
       "       [0.3 ],\n",
       "       [0.02],\n",
       "       [0.22],\n",
       "       [0.4 ],\n",
       "       [0.26],\n",
       "       [0.64],\n",
       "       [0.36],\n",
       "       [0.44],\n",
       "       [0.36],\n",
       "       [0.28],\n",
       "       [0.4 ],\n",
       "       [0.32],\n",
       "       [0.2 ],\n",
       "       [0.4 ],\n",
       "       [0.34],\n",
       "       [0.3 ],\n",
       "       [0.44],\n",
       "       [0.46],\n",
       "       [0.22],\n",
       "       [0.24],\n",
       "       [0.5 ],\n",
       "       [0.56],\n",
       "       [0.26],\n",
       "       [0.2 ],\n",
       "       [0.46],\n",
       "       [0.38],\n",
       "       [0.5 ],\n",
       "       [0.22],\n",
       "       [0.36],\n",
       "       [0.24],\n",
       "       [0.34],\n",
       "       [0.22],\n",
       "       [0.14],\n",
       "       [0.26],\n",
       "       [0.34],\n",
       "       [0.32],\n",
       "       [0.44],\n",
       "       [0.3 ],\n",
       "       [0.48],\n",
       "       [0.2 ],\n",
       "       [0.14],\n",
       "       [0.38],\n",
       "       [0.4 ],\n",
       "       [0.36],\n",
       "       [0.36],\n",
       "       [0.72],\n",
       "       [0.4 ],\n",
       "       [0.44],\n",
       "       [0.3 ],\n",
       "       [0.28],\n",
       "       [0.44],\n",
       "       [0.38],\n",
       "       [0.68],\n",
       "       [0.46],\n",
       "       [0.56],\n",
       "       [0.36],\n",
       "       [0.48],\n",
       "       [0.06],\n",
       "       [0.24],\n",
       "       [0.42],\n",
       "       [0.36],\n",
       "       [0.38],\n",
       "       [0.26],\n",
       "       [0.44],\n",
       "       [0.44],\n",
       "       [0.44],\n",
       "       [0.48],\n",
       "       [0.3 ],\n",
       "       [0.38],\n",
       "       [0.24],\n",
       "       [0.26],\n",
       "       [0.32],\n",
       "       [0.44],\n",
       "       [0.4 ],\n",
       "       [0.48],\n",
       "       [0.26],\n",
       "       [0.36],\n",
       "       [0.54],\n",
       "       [0.32],\n",
       "       [0.36],\n",
       "       [0.46],\n",
       "       [0.82],\n",
       "       [0.44],\n",
       "       [0.22],\n",
       "       [0.3 ],\n",
       "       [0.42],\n",
       "       [0.5 ],\n",
       "       [0.46],\n",
       "       [0.42],\n",
       "       [0.28],\n",
       "       [0.32],\n",
       "       [0.42],\n",
       "       [0.44],\n",
       "       [0.2 ],\n",
       "       [0.42],\n",
       "       [0.3 ],\n",
       "       [0.46],\n",
       "       [0.46],\n",
       "       [0.34],\n",
       "       [0.32],\n",
       "       [0.42],\n",
       "       [0.5 ],\n",
       "       [0.54],\n",
       "       [0.36],\n",
       "       [0.38],\n",
       "       [0.56],\n",
       "       [0.36],\n",
       "       [0.42],\n",
       "       [0.3 ],\n",
       "       [0.9 ],\n",
       "       [0.34],\n",
       "       [0.38],\n",
       "       [0.56],\n",
       "       [0.42],\n",
       "       [0.44],\n",
       "       [0.26],\n",
       "       [0.68],\n",
       "       [0.42],\n",
       "       [0.38],\n",
       "       [0.6 ],\n",
       "       [0.38],\n",
       "       [0.22],\n",
       "       [0.34],\n",
       "       [0.66],\n",
       "       [0.42],\n",
       "       [0.6 ],\n",
       "       [0.64],\n",
       "       [0.32],\n",
       "       [0.72],\n",
       "       [0.64],\n",
       "       [1.  ],\n",
       "       [0.64],\n",
       "       [0.42],\n",
       "       [0.4 ],\n",
       "       [0.34],\n",
       "       [0.48],\n",
       "       [0.56],\n",
       "       [0.66],\n",
       "       [0.52],\n",
       "       [0.62],\n",
       "       [0.66],\n",
       "       [0.48],\n",
       "       [0.42],\n",
       "       [0.4 ],\n",
       "       [0.38],\n",
       "       [0.44],\n",
       "       [0.54],\n",
       "       [0.5 ],\n",
       "       [0.4 ],\n",
       "       [0.34],\n",
       "       [0.72],\n",
       "       [0.36],\n",
       "       [0.38],\n",
       "       [0.56],\n",
       "       [0.52],\n",
       "       [0.44],\n",
       "       [0.4 ],\n",
       "       [0.38],\n",
       "       [0.3 ],\n",
       "       [0.48],\n",
       "       [0.3 ],\n",
       "       [0.26],\n",
       "       [0.38],\n",
       "       [0.24],\n",
       "       [0.1 ],\n",
       "       [0.42],\n",
       "       [0.26],\n",
       "       [0.44],\n",
       "       [0.46],\n",
       "       [0.5 ],\n",
       "       [0.52],\n",
       "       [0.4 ],\n",
       "       [0.38],\n",
       "       [0.72],\n",
       "       [0.44],\n",
       "       [0.58],\n",
       "       [0.46],\n",
       "       [0.38],\n",
       "       [0.34],\n",
       "       [0.34],\n",
       "       [0.44],\n",
       "       [0.24],\n",
       "       [0.24],\n",
       "       [0.34],\n",
       "       [0.32],\n",
       "       [0.2 ],\n",
       "       [0.38],\n",
       "       [0.48],\n",
       "       [0.56],\n",
       "       [0.42],\n",
       "       [0.34],\n",
       "       [0.68],\n",
       "       [0.52],\n",
       "       [0.44],\n",
       "       [0.52],\n",
       "       [0.56],\n",
       "       [0.46],\n",
       "       [0.42],\n",
       "       [0.58],\n",
       "       [0.44],\n",
       "       [0.18],\n",
       "       [0.46],\n",
       "       [0.36],\n",
       "       [0.22],\n",
       "       [0.2 ],\n",
       "       [0.26],\n",
       "       [0.52],\n",
       "       [0.4 ],\n",
       "       [0.4 ],\n",
       "       [0.22],\n",
       "       [0.32],\n",
       "       [0.24],\n",
       "       [0.58],\n",
       "       [0.48],\n",
       "       [0.58],\n",
       "       [0.32],\n",
       "       [0.34],\n",
       "       [0.38],\n",
       "       [0.38],\n",
       "       [0.6 ],\n",
       "       [0.32],\n",
       "       [0.34],\n",
       "       [0.3 ],\n",
       "       [0.42],\n",
       "       [0.22],\n",
       "       [0.28],\n",
       "       [0.58],\n",
       "       [0.5 ],\n",
       "       [0.64],\n",
       "       [0.54]])"
      ]
     },
     "execution_count": 46,
     "metadata": {},
     "output_type": "execute_result"
    }
   ],
   "source": [
    "birth_normalize"
   ]
  },
  {
   "cell_type": "code",
   "execution_count": 47,
   "metadata": {},
   "outputs": [
    {
     "data": {
      "text/plain": [
       "array([0.24])"
      ]
     },
     "execution_count": 47,
     "metadata": {},
     "output_type": "execute_result"
    }
   ],
   "source": [
    "birth_normalize[0]"
   ]
  },
  {
   "cell_type": "code",
   "execution_count": null,
   "metadata": {},
   "outputs": [],
   "source": []
  },
  {
   "cell_type": "markdown",
   "metadata": {},
   "source": [
    "##### so now my data has been normalized so now we are ready to insert this data into algorithm"
   ]
  },
  {
   "cell_type": "code",
   "execution_count": 48,
   "metadata": {},
   "outputs": [],
   "source": [
    "training_data=birth_normalize[0:320]\n",
    "test_data=birth_normalize[320:]"
   ]
  },
  {
   "cell_type": "code",
   "execution_count": 49,
   "metadata": {},
   "outputs": [
    {
     "data": {
      "text/plain": [
       "array([[0.24],\n",
       "       [0.18],\n",
       "       [0.14],\n",
       "       [0.16],\n",
       "       [0.42]])"
      ]
     },
     "execution_count": 49,
     "metadata": {},
     "output_type": "execute_result"
    }
   ],
   "source": [
    "training_data[0:5]"
   ]
  },
  {
   "cell_type": "code",
   "execution_count": 50,
   "metadata": {},
   "outputs": [
    {
     "data": {
      "text/plain": [
       "320"
      ]
     },
     "execution_count": 50,
     "metadata": {},
     "output_type": "execute_result"
    }
   ],
   "source": [
    "training_data.size"
   ]
  },
  {
   "cell_type": "code",
   "execution_count": 51,
   "metadata": {},
   "outputs": [
    {
     "data": {
      "text/plain": [
       "45"
      ]
     },
     "execution_count": 51,
     "metadata": {},
     "output_type": "execute_result"
    }
   ],
   "source": [
    "test_data.size"
   ]
  },
  {
   "cell_type": "code",
   "execution_count": 52,
   "metadata": {},
   "outputs": [],
   "source": [
    "from statsmodels.tsa.arima_model import ARIMA\n"
   ]
  },
  {
   "cell_type": "code",
   "execution_count": 53,
   "metadata": {},
   "outputs": [
    {
     "name": "stderr",
     "output_type": "stream",
     "text": [
      "C:\\Users\\user\\anaconda3\\lib\\site-packages\\statsmodels\\tsa\\arima_model.py:472: FutureWarning: \n",
      "statsmodels.tsa.arima_model.ARMA and statsmodels.tsa.arima_model.ARIMA have\n",
      "been deprecated in favor of statsmodels.tsa.arima.model.ARIMA (note the .\n",
      "between arima and model) and\n",
      "statsmodels.tsa.SARIMAX. These will be removed after the 0.12 release.\n",
      "\n",
      "statsmodels.tsa.arima.model.ARIMA makes use of the statespace framework and\n",
      "is both well tested and maintained.\n",
      "\n",
      "To silence this warning and continue using ARMA and ARIMA until they are\n",
      "removed, use:\n",
      "\n",
      "import warnings\n",
      "warnings.filterwarnings('ignore', 'statsmodels.tsa.arima_model.ARMA',\n",
      "                        FutureWarning)\n",
      "warnings.filterwarnings('ignore', 'statsmodels.tsa.arima_model.ARIMA',\n",
      "                        FutureWarning)\n",
      "\n",
      "  warnings.warn(ARIMA_DEPRECATION_WARN, FutureWarning)\n"
     ]
    }
   ],
   "source": [
    "### arima= ARIMA(training_data,order=(p,d,q))\n",
    "\n",
    "arima= ARIMA(training_data,order=(2,1,3))"
   ]
  },
  {
   "cell_type": "code",
   "execution_count": 54,
   "metadata": {},
   "outputs": [
    {
     "name": "stderr",
     "output_type": "stream",
     "text": [
      "C:\\Users\\user\\anaconda3\\lib\\site-packages\\statsmodels\\tsa\\arima_model.py:472: FutureWarning: \n",
      "statsmodels.tsa.arima_model.ARMA and statsmodels.tsa.arima_model.ARIMA have\n",
      "been deprecated in favor of statsmodels.tsa.arima.model.ARIMA (note the .\n",
      "between arima and model) and\n",
      "statsmodels.tsa.SARIMAX. These will be removed after the 0.12 release.\n",
      "\n",
      "statsmodels.tsa.arima.model.ARIMA makes use of the statespace framework and\n",
      "is both well tested and maintained.\n",
      "\n",
      "To silence this warning and continue using ARMA and ARIMA until they are\n",
      "removed, use:\n",
      "\n",
      "import warnings\n",
      "warnings.filterwarnings('ignore', 'statsmodels.tsa.arima_model.ARMA',\n",
      "                        FutureWarning)\n",
      "warnings.filterwarnings('ignore', 'statsmodels.tsa.arima_model.ARIMA',\n",
      "                        FutureWarning)\n",
      "\n",
      "  warnings.warn(ARIMA_DEPRECATION_WARN, FutureWarning)\n"
     ]
    }
   ],
   "source": [
    "model=arima.fit()"
   ]
  },
  {
   "cell_type": "code",
   "execution_count": 55,
   "metadata": {},
   "outputs": [
    {
     "data": {
      "text/plain": [
       "-331.17065820401865"
      ]
     },
     "execution_count": 55,
     "metadata": {},
     "output_type": "execute_result"
    }
   ],
   "source": [
    "model.aic"
   ]
  },
  {
   "cell_type": "markdown",
   "metadata": {},
   "source": [
    "#### now we will see -ve aic, earlier we have positive aic"
   ]
  },
  {
   "cell_type": "code",
   "execution_count": 56,
   "metadata": {},
   "outputs": [],
   "source": [
    "pred= model.forecast(steps=45)[0]"
   ]
  },
  {
   "cell_type": "code",
   "execution_count": 57,
   "metadata": {},
   "outputs": [
    {
     "data": {
      "text/plain": [
       "array([0.40235548, 0.42527054, 0.41295024, 0.40074157, 0.42160537,\n",
       "       0.41952687, 0.40217584, 0.41695503, 0.42391603, 0.40604744,\n",
       "       0.41267962, 0.42575324, 0.41132849, 0.40983185, 0.42527862,\n",
       "       0.41686278, 0.40898418, 0.42318464, 0.42163358, 0.41018723,\n",
       "       0.42039289, 0.42495687, 0.41304628, 0.41781945, 0.42657145,\n",
       "       0.41687983, 0.41618065, 0.42662381, 0.42091282, 0.41587388,\n",
       "       0.42556876, 0.42445734, 0.41694628, 0.42402091, 0.42704461,\n",
       "       0.41914329, 0.42259708, 0.4284882 , 0.42201337, 0.42178445,\n",
       "       0.42887652, 0.42503711, 0.42185852, 0.428508  , 0.42774927])"
      ]
     },
     "execution_count": 57,
     "metadata": {},
     "output_type": "execute_result"
    }
   ],
   "source": [
    "pred"
   ]
  },
  {
   "cell_type": "code",
   "execution_count": 58,
   "metadata": {},
   "outputs": [],
   "source": [
    "from sklearn.metrics import mean_squared_error"
   ]
  },
  {
   "cell_type": "code",
   "execution_count": 59,
   "metadata": {},
   "outputs": [
    {
     "data": {
      "text/plain": [
       "0.13226038177990923"
      ]
     },
     "execution_count": 59,
     "metadata": {},
     "output_type": "execute_result"
    }
   ],
   "source": [
    "np.sqrt(mean_squared_error(test_data,pred))"
   ]
  },
  {
   "cell_type": "markdown",
   "metadata": {},
   "source": [
    "#### very less error"
   ]
  },
  {
   "cell_type": "code",
   "execution_count": null,
   "metadata": {},
   "outputs": [],
   "source": []
  },
  {
   "cell_type": "markdown",
   "metadata": {},
   "source": [
    "#### now to get your actual forecast, u have to perform inverse transformation"
   ]
  },
  {
   "cell_type": "code",
   "execution_count": 60,
   "metadata": {},
   "outputs": [],
   "source": [
    "actual_forecast=scaler.inverse_transform(pred.reshape(-1,1))"
   ]
  },
  {
   "cell_type": "code",
   "execution_count": 61,
   "metadata": {},
   "outputs": [
    {
     "data": {
      "text/plain": [
       "array([[43.11777414],\n",
       "       [44.26352715],\n",
       "       [43.64751218],\n",
       "       [43.03707846],\n",
       "       [44.08026838],\n",
       "       [43.97634339],\n",
       "       [43.10879183],\n",
       "       [43.84775127],\n",
       "       [44.1958016 ],\n",
       "       [43.30237212],\n",
       "       [43.63398084],\n",
       "       [44.28766197],\n",
       "       [43.5664246 ],\n",
       "       [43.49159228],\n",
       "       [44.26393108],\n",
       "       [43.84313913],\n",
       "       [43.44920898],\n",
       "       [44.15923183],\n",
       "       [44.08167881],\n",
       "       [43.50936158],\n",
       "       [44.01964428],\n",
       "       [44.24784349],\n",
       "       [43.65231378],\n",
       "       [43.89097242],\n",
       "       [44.3285725 ],\n",
       "       [43.84399169],\n",
       "       [43.80903256],\n",
       "       [44.33119069],\n",
       "       [44.04564123],\n",
       "       [43.79369399],\n",
       "       [44.27843785],\n",
       "       [44.22286698],\n",
       "       [43.84731386],\n",
       "       [44.20104567],\n",
       "       [44.35223038],\n",
       "       [43.95716454],\n",
       "       [44.12985392],\n",
       "       [44.42441012],\n",
       "       [44.10066842],\n",
       "       [44.08922248],\n",
       "       [44.44382622],\n",
       "       [44.25185552],\n",
       "       [44.09292582],\n",
       "       [44.42539977],\n",
       "       [44.38746343]])"
      ]
     },
     "execution_count": 61,
     "metadata": {},
     "output_type": "execute_result"
    }
   ],
   "source": [
    "actual_forecast"
   ]
  },
  {
   "cell_type": "markdown",
   "metadata": {},
   "source": [
    "##### to get your actual error"
   ]
  },
  {
   "cell_type": "code",
   "execution_count": 62,
   "metadata": {},
   "outputs": [
    {
     "data": {
      "text/plain": [
       "6.61301908899546"
      ]
     },
     "execution_count": 62,
     "metadata": {},
     "output_type": "execute_result"
    }
   ],
   "source": [
    "np.sqrt(mean_squared_error(scaler.inverse_transform(test_data),actual_forecast))"
   ]
  },
  {
   "cell_type": "markdown",
   "metadata": {},
   "source": [
    "##### now we will see after Data transformation our error reduces just a little bit"
   ]
  },
  {
   "cell_type": "code",
   "execution_count": null,
   "metadata": {},
   "outputs": [],
   "source": []
  },
  {
   "cell_type": "markdown",
   "metadata": {},
   "source": [
    "### feature engineering on Time SEries Data"
   ]
  },
  {
   "cell_type": "code",
   "execution_count": 63,
   "metadata": {},
   "outputs": [],
   "source": [
    "import numpy as np\n",
    "import pandas as pd\n",
    "import matplotlib.pyplot as plt"
   ]
  },
  {
   "cell_type": "code",
   "execution_count": 65,
   "metadata": {},
   "outputs": [],
   "source": [
    "f_birth=pd.read_csv('daily-total-female-births-CA.csv',parse_dates=[0],index_col=0)"
   ]
  },
  {
   "cell_type": "code",
   "execution_count": 66,
   "metadata": {},
   "outputs": [
    {
     "data": {
      "text/html": [
       "<div>\n",
       "<style scoped>\n",
       "    .dataframe tbody tr th:only-of-type {\n",
       "        vertical-align: middle;\n",
       "    }\n",
       "\n",
       "    .dataframe tbody tr th {\n",
       "        vertical-align: top;\n",
       "    }\n",
       "\n",
       "    .dataframe thead th {\n",
       "        text-align: right;\n",
       "    }\n",
       "</style>\n",
       "<table border=\"1\" class=\"dataframe\">\n",
       "  <thead>\n",
       "    <tr style=\"text-align: right;\">\n",
       "      <th></th>\n",
       "      <th>births</th>\n",
       "    </tr>\n",
       "    <tr>\n",
       "      <th>date</th>\n",
       "      <th></th>\n",
       "    </tr>\n",
       "  </thead>\n",
       "  <tbody>\n",
       "    <tr>\n",
       "      <th>1959-01-01</th>\n",
       "      <td>35</td>\n",
       "    </tr>\n",
       "    <tr>\n",
       "      <th>1959-01-02</th>\n",
       "      <td>32</td>\n",
       "    </tr>\n",
       "    <tr>\n",
       "      <th>1959-01-03</th>\n",
       "      <td>30</td>\n",
       "    </tr>\n",
       "    <tr>\n",
       "      <th>1959-01-04</th>\n",
       "      <td>31</td>\n",
       "    </tr>\n",
       "    <tr>\n",
       "      <th>1959-01-05</th>\n",
       "      <td>44</td>\n",
       "    </tr>\n",
       "  </tbody>\n",
       "</table>\n",
       "</div>"
      ],
      "text/plain": [
       "            births\n",
       "date              \n",
       "1959-01-01      35\n",
       "1959-01-02      32\n",
       "1959-01-03      30\n",
       "1959-01-04      31\n",
       "1959-01-05      44"
      ]
     },
     "execution_count": 66,
     "metadata": {},
     "output_type": "execute_result"
    }
   ],
   "source": [
    "f_birth.head()"
   ]
  },
  {
   "cell_type": "code",
   "execution_count": 67,
   "metadata": {},
   "outputs": [],
   "source": [
    "f_birth['lag1']=f_birth.shift(1)"
   ]
  },
  {
   "cell_type": "code",
   "execution_count": 68,
   "metadata": {},
   "outputs": [
    {
     "data": {
      "text/html": [
       "<div>\n",
       "<style scoped>\n",
       "    .dataframe tbody tr th:only-of-type {\n",
       "        vertical-align: middle;\n",
       "    }\n",
       "\n",
       "    .dataframe tbody tr th {\n",
       "        vertical-align: top;\n",
       "    }\n",
       "\n",
       "    .dataframe thead th {\n",
       "        text-align: right;\n",
       "    }\n",
       "</style>\n",
       "<table border=\"1\" class=\"dataframe\">\n",
       "  <thead>\n",
       "    <tr style=\"text-align: right;\">\n",
       "      <th></th>\n",
       "      <th>births</th>\n",
       "      <th>lag1</th>\n",
       "    </tr>\n",
       "    <tr>\n",
       "      <th>date</th>\n",
       "      <th></th>\n",
       "      <th></th>\n",
       "    </tr>\n",
       "  </thead>\n",
       "  <tbody>\n",
       "    <tr>\n",
       "      <th>1959-01-01</th>\n",
       "      <td>35</td>\n",
       "      <td>NaN</td>\n",
       "    </tr>\n",
       "    <tr>\n",
       "      <th>1959-01-02</th>\n",
       "      <td>32</td>\n",
       "      <td>35.0</td>\n",
       "    </tr>\n",
       "    <tr>\n",
       "      <th>1959-01-03</th>\n",
       "      <td>30</td>\n",
       "      <td>32.0</td>\n",
       "    </tr>\n",
       "    <tr>\n",
       "      <th>1959-01-04</th>\n",
       "      <td>31</td>\n",
       "      <td>30.0</td>\n",
       "    </tr>\n",
       "    <tr>\n",
       "      <th>1959-01-05</th>\n",
       "      <td>44</td>\n",
       "      <td>31.0</td>\n",
       "    </tr>\n",
       "  </tbody>\n",
       "</table>\n",
       "</div>"
      ],
      "text/plain": [
       "            births  lag1\n",
       "date                    \n",
       "1959-01-01      35   NaN\n",
       "1959-01-02      32  35.0\n",
       "1959-01-03      30  32.0\n",
       "1959-01-04      31  30.0\n",
       "1959-01-05      44  31.0"
      ]
     },
     "execution_count": 68,
     "metadata": {},
     "output_type": "execute_result"
    }
   ],
   "source": [
    "f_birth.head()"
   ]
  },
  {
   "cell_type": "code",
   "execution_count": 69,
   "metadata": {},
   "outputs": [],
   "source": [
    "f_birth['lag2']=f_birth['births'].shift(2)"
   ]
  },
  {
   "cell_type": "code",
   "execution_count": 70,
   "metadata": {},
   "outputs": [],
   "source": [
    "f_birth['lag3']=f_birth['births'].shift(3)"
   ]
  },
  {
   "cell_type": "code",
   "execution_count": 71,
   "metadata": {},
   "outputs": [
    {
     "data": {
      "text/html": [
       "<div>\n",
       "<style scoped>\n",
       "    .dataframe tbody tr th:only-of-type {\n",
       "        vertical-align: middle;\n",
       "    }\n",
       "\n",
       "    .dataframe tbody tr th {\n",
       "        vertical-align: top;\n",
       "    }\n",
       "\n",
       "    .dataframe thead th {\n",
       "        text-align: right;\n",
       "    }\n",
       "</style>\n",
       "<table border=\"1\" class=\"dataframe\">\n",
       "  <thead>\n",
       "    <tr style=\"text-align: right;\">\n",
       "      <th></th>\n",
       "      <th>births</th>\n",
       "      <th>lag1</th>\n",
       "      <th>lag2</th>\n",
       "      <th>lag3</th>\n",
       "    </tr>\n",
       "    <tr>\n",
       "      <th>date</th>\n",
       "      <th></th>\n",
       "      <th></th>\n",
       "      <th></th>\n",
       "      <th></th>\n",
       "    </tr>\n",
       "  </thead>\n",
       "  <tbody>\n",
       "    <tr>\n",
       "      <th>1959-01-01</th>\n",
       "      <td>35</td>\n",
       "      <td>NaN</td>\n",
       "      <td>NaN</td>\n",
       "      <td>NaN</td>\n",
       "    </tr>\n",
       "    <tr>\n",
       "      <th>1959-01-02</th>\n",
       "      <td>32</td>\n",
       "      <td>35.0</td>\n",
       "      <td>NaN</td>\n",
       "      <td>NaN</td>\n",
       "    </tr>\n",
       "    <tr>\n",
       "      <th>1959-01-03</th>\n",
       "      <td>30</td>\n",
       "      <td>32.0</td>\n",
       "      <td>35.0</td>\n",
       "      <td>NaN</td>\n",
       "    </tr>\n",
       "    <tr>\n",
       "      <th>1959-01-04</th>\n",
       "      <td>31</td>\n",
       "      <td>30.0</td>\n",
       "      <td>32.0</td>\n",
       "      <td>35.0</td>\n",
       "    </tr>\n",
       "    <tr>\n",
       "      <th>1959-01-05</th>\n",
       "      <td>44</td>\n",
       "      <td>31.0</td>\n",
       "      <td>30.0</td>\n",
       "      <td>32.0</td>\n",
       "    </tr>\n",
       "  </tbody>\n",
       "</table>\n",
       "</div>"
      ],
      "text/plain": [
       "            births  lag1  lag2  lag3\n",
       "date                                \n",
       "1959-01-01      35   NaN   NaN   NaN\n",
       "1959-01-02      32  35.0   NaN   NaN\n",
       "1959-01-03      30  32.0  35.0   NaN\n",
       "1959-01-04      31  30.0  32.0  35.0\n",
       "1959-01-05      44  31.0  30.0  32.0"
      ]
     },
     "execution_count": 71,
     "metadata": {},
     "output_type": "execute_result"
    }
   ],
   "source": [
    "f_birth.head()"
   ]
  },
  {
   "cell_type": "markdown",
   "metadata": {},
   "source": [
    "#### moving average"
   ]
  },
  {
   "cell_type": "code",
   "execution_count": 72,
   "metadata": {},
   "outputs": [],
   "source": [
    "f_birth['MA3']=f_birth['births'].rolling(window=3).mean()\n",
    "\n",
    "# window: This is the number of observations used for calculating the statistic. "
   ]
  },
  {
   "cell_type": "code",
   "execution_count": null,
   "metadata": {},
   "outputs": [],
   "source": []
  },
  {
   "cell_type": "code",
   "execution_count": 73,
   "metadata": {},
   "outputs": [
    {
     "data": {
      "text/html": [
       "<div>\n",
       "<style scoped>\n",
       "    .dataframe tbody tr th:only-of-type {\n",
       "        vertical-align: middle;\n",
       "    }\n",
       "\n",
       "    .dataframe tbody tr th {\n",
       "        vertical-align: top;\n",
       "    }\n",
       "\n",
       "    .dataframe thead th {\n",
       "        text-align: right;\n",
       "    }\n",
       "</style>\n",
       "<table border=\"1\" class=\"dataframe\">\n",
       "  <thead>\n",
       "    <tr style=\"text-align: right;\">\n",
       "      <th></th>\n",
       "      <th>births</th>\n",
       "      <th>lag1</th>\n",
       "      <th>lag2</th>\n",
       "      <th>lag3</th>\n",
       "      <th>MA3</th>\n",
       "    </tr>\n",
       "    <tr>\n",
       "      <th>date</th>\n",
       "      <th></th>\n",
       "      <th></th>\n",
       "      <th></th>\n",
       "      <th></th>\n",
       "      <th></th>\n",
       "    </tr>\n",
       "  </thead>\n",
       "  <tbody>\n",
       "    <tr>\n",
       "      <th>1959-01-01</th>\n",
       "      <td>35</td>\n",
       "      <td>NaN</td>\n",
       "      <td>NaN</td>\n",
       "      <td>NaN</td>\n",
       "      <td>NaN</td>\n",
       "    </tr>\n",
       "    <tr>\n",
       "      <th>1959-01-02</th>\n",
       "      <td>32</td>\n",
       "      <td>35.0</td>\n",
       "      <td>NaN</td>\n",
       "      <td>NaN</td>\n",
       "      <td>NaN</td>\n",
       "    </tr>\n",
       "    <tr>\n",
       "      <th>1959-01-03</th>\n",
       "      <td>30</td>\n",
       "      <td>32.0</td>\n",
       "      <td>35.0</td>\n",
       "      <td>NaN</td>\n",
       "      <td>32.333333</td>\n",
       "    </tr>\n",
       "    <tr>\n",
       "      <th>1959-01-04</th>\n",
       "      <td>31</td>\n",
       "      <td>30.0</td>\n",
       "      <td>32.0</td>\n",
       "      <td>35.0</td>\n",
       "      <td>31.000000</td>\n",
       "    </tr>\n",
       "    <tr>\n",
       "      <th>1959-01-05</th>\n",
       "      <td>44</td>\n",
       "      <td>31.0</td>\n",
       "      <td>30.0</td>\n",
       "      <td>32.0</td>\n",
       "      <td>35.000000</td>\n",
       "    </tr>\n",
       "  </tbody>\n",
       "</table>\n",
       "</div>"
      ],
      "text/plain": [
       "            births  lag1  lag2  lag3        MA3\n",
       "date                                           \n",
       "1959-01-01      35   NaN   NaN   NaN        NaN\n",
       "1959-01-02      32  35.0   NaN   NaN        NaN\n",
       "1959-01-03      30  32.0  35.0   NaN  32.333333\n",
       "1959-01-04      31  30.0  32.0  35.0  31.000000\n",
       "1959-01-05      44  31.0  30.0  32.0  35.000000"
      ]
     },
     "execution_count": 73,
     "metadata": {},
     "output_type": "execute_result"
    }
   ],
   "source": [
    "f_birth.head()"
   ]
  },
  {
   "cell_type": "code",
   "execution_count": 74,
   "metadata": {},
   "outputs": [],
   "source": [
    "f_birth['MA4']=f_birth['births'].rolling(window=4).mean()\n"
   ]
  },
  {
   "cell_type": "code",
   "execution_count": 75,
   "metadata": {},
   "outputs": [
    {
     "data": {
      "text/html": [
       "<div>\n",
       "<style scoped>\n",
       "    .dataframe tbody tr th:only-of-type {\n",
       "        vertical-align: middle;\n",
       "    }\n",
       "\n",
       "    .dataframe tbody tr th {\n",
       "        vertical-align: top;\n",
       "    }\n",
       "\n",
       "    .dataframe thead th {\n",
       "        text-align: right;\n",
       "    }\n",
       "</style>\n",
       "<table border=\"1\" class=\"dataframe\">\n",
       "  <thead>\n",
       "    <tr style=\"text-align: right;\">\n",
       "      <th></th>\n",
       "      <th>births</th>\n",
       "      <th>lag1</th>\n",
       "      <th>lag2</th>\n",
       "      <th>lag3</th>\n",
       "      <th>MA3</th>\n",
       "      <th>MA4</th>\n",
       "    </tr>\n",
       "    <tr>\n",
       "      <th>date</th>\n",
       "      <th></th>\n",
       "      <th></th>\n",
       "      <th></th>\n",
       "      <th></th>\n",
       "      <th></th>\n",
       "      <th></th>\n",
       "    </tr>\n",
       "  </thead>\n",
       "  <tbody>\n",
       "    <tr>\n",
       "      <th>1959-01-01</th>\n",
       "      <td>35</td>\n",
       "      <td>NaN</td>\n",
       "      <td>NaN</td>\n",
       "      <td>NaN</td>\n",
       "      <td>NaN</td>\n",
       "      <td>NaN</td>\n",
       "    </tr>\n",
       "    <tr>\n",
       "      <th>1959-01-02</th>\n",
       "      <td>32</td>\n",
       "      <td>35.0</td>\n",
       "      <td>NaN</td>\n",
       "      <td>NaN</td>\n",
       "      <td>NaN</td>\n",
       "      <td>NaN</td>\n",
       "    </tr>\n",
       "    <tr>\n",
       "      <th>1959-01-03</th>\n",
       "      <td>30</td>\n",
       "      <td>32.0</td>\n",
       "      <td>35.0</td>\n",
       "      <td>NaN</td>\n",
       "      <td>32.333333</td>\n",
       "      <td>NaN</td>\n",
       "    </tr>\n",
       "    <tr>\n",
       "      <th>1959-01-04</th>\n",
       "      <td>31</td>\n",
       "      <td>30.0</td>\n",
       "      <td>32.0</td>\n",
       "      <td>35.0</td>\n",
       "      <td>31.000000</td>\n",
       "      <td>32.00</td>\n",
       "    </tr>\n",
       "    <tr>\n",
       "      <th>1959-01-05</th>\n",
       "      <td>44</td>\n",
       "      <td>31.0</td>\n",
       "      <td>30.0</td>\n",
       "      <td>32.0</td>\n",
       "      <td>35.000000</td>\n",
       "      <td>34.25</td>\n",
       "    </tr>\n",
       "  </tbody>\n",
       "</table>\n",
       "</div>"
      ],
      "text/plain": [
       "            births  lag1  lag2  lag3        MA3    MA4\n",
       "date                                                  \n",
       "1959-01-01      35   NaN   NaN   NaN        NaN    NaN\n",
       "1959-01-02      32  35.0   NaN   NaN        NaN    NaN\n",
       "1959-01-03      30  32.0  35.0   NaN  32.333333    NaN\n",
       "1959-01-04      31  30.0  32.0  35.0  31.000000  32.00\n",
       "1959-01-05      44  31.0  30.0  32.0  35.000000  34.25"
      ]
     },
     "execution_count": 75,
     "metadata": {},
     "output_type": "execute_result"
    }
   ],
   "source": [
    "f_birth.head()"
   ]
  },
  {
   "cell_type": "code",
   "execution_count": null,
   "metadata": {},
   "outputs": [],
   "source": []
  },
  {
   "cell_type": "code",
   "execution_count": 76,
   "metadata": {},
   "outputs": [],
   "source": [
    "##### lets day you are expert in some domainn & u kmow within 7 days, the maximum value is the true reflector of our business as we are in high growth era\n",
    "##### & minimum value is a true reflector of our baseline, so in such case instead of mean , u can call min & max function\n"
   ]
  },
  {
   "cell_type": "code",
   "execution_count": null,
   "metadata": {},
   "outputs": [],
   "source": []
  },
  {
   "cell_type": "code",
   "execution_count": 77,
   "metadata": {},
   "outputs": [
    {
     "data": {
      "text/html": [
       "<div>\n",
       "<style scoped>\n",
       "    .dataframe tbody tr th:only-of-type {\n",
       "        vertical-align: middle;\n",
       "    }\n",
       "\n",
       "    .dataframe tbody tr th {\n",
       "        vertical-align: top;\n",
       "    }\n",
       "\n",
       "    .dataframe thead th {\n",
       "        text-align: right;\n",
       "    }\n",
       "</style>\n",
       "<table border=\"1\" class=\"dataframe\">\n",
       "  <thead>\n",
       "    <tr style=\"text-align: right;\">\n",
       "      <th></th>\n",
       "      <th>births</th>\n",
       "      <th>lag1</th>\n",
       "      <th>lag2</th>\n",
       "      <th>lag3</th>\n",
       "      <th>MA3</th>\n",
       "      <th>MA4</th>\n",
       "      <th>MAX_5</th>\n",
       "    </tr>\n",
       "    <tr>\n",
       "      <th>date</th>\n",
       "      <th></th>\n",
       "      <th></th>\n",
       "      <th></th>\n",
       "      <th></th>\n",
       "      <th></th>\n",
       "      <th></th>\n",
       "      <th></th>\n",
       "    </tr>\n",
       "  </thead>\n",
       "  <tbody>\n",
       "    <tr>\n",
       "      <th>1959-01-01</th>\n",
       "      <td>35</td>\n",
       "      <td>NaN</td>\n",
       "      <td>NaN</td>\n",
       "      <td>NaN</td>\n",
       "      <td>NaN</td>\n",
       "      <td>NaN</td>\n",
       "      <td>NaN</td>\n",
       "    </tr>\n",
       "    <tr>\n",
       "      <th>1959-01-02</th>\n",
       "      <td>32</td>\n",
       "      <td>35.0</td>\n",
       "      <td>NaN</td>\n",
       "      <td>NaN</td>\n",
       "      <td>NaN</td>\n",
       "      <td>NaN</td>\n",
       "      <td>NaN</td>\n",
       "    </tr>\n",
       "    <tr>\n",
       "      <th>1959-01-03</th>\n",
       "      <td>30</td>\n",
       "      <td>32.0</td>\n",
       "      <td>35.0</td>\n",
       "      <td>NaN</td>\n",
       "      <td>32.333333</td>\n",
       "      <td>NaN</td>\n",
       "      <td>NaN</td>\n",
       "    </tr>\n",
       "    <tr>\n",
       "      <th>1959-01-04</th>\n",
       "      <td>31</td>\n",
       "      <td>30.0</td>\n",
       "      <td>32.0</td>\n",
       "      <td>35.0</td>\n",
       "      <td>31.000000</td>\n",
       "      <td>32.00</td>\n",
       "      <td>NaN</td>\n",
       "    </tr>\n",
       "    <tr>\n",
       "      <th>1959-01-05</th>\n",
       "      <td>44</td>\n",
       "      <td>31.0</td>\n",
       "      <td>30.0</td>\n",
       "      <td>32.0</td>\n",
       "      <td>35.000000</td>\n",
       "      <td>34.25</td>\n",
       "      <td>44.0</td>\n",
       "    </tr>\n",
       "  </tbody>\n",
       "</table>\n",
       "</div>"
      ],
      "text/plain": [
       "            births  lag1  lag2  lag3        MA3    MA4  MAX_5\n",
       "date                                                         \n",
       "1959-01-01      35   NaN   NaN   NaN        NaN    NaN    NaN\n",
       "1959-01-02      32  35.0   NaN   NaN        NaN    NaN    NaN\n",
       "1959-01-03      30  32.0  35.0   NaN  32.333333    NaN    NaN\n",
       "1959-01-04      31  30.0  32.0  35.0  31.000000  32.00    NaN\n",
       "1959-01-05      44  31.0  30.0  32.0  35.000000  34.25   44.0"
      ]
     },
     "execution_count": 77,
     "metadata": {},
     "output_type": "execute_result"
    }
   ],
   "source": [
    "#### lets say 5 is the window size or 5 is the business period\n",
    "f_birth['MAX_5']=f_birth['births'].rolling(window=5).max()\n",
    "f_birth.head()"
   ]
  },
  {
   "cell_type": "code",
   "execution_count": 78,
   "metadata": {},
   "outputs": [
    {
     "data": {
      "text/html": [
       "<div>\n",
       "<style scoped>\n",
       "    .dataframe tbody tr th:only-of-type {\n",
       "        vertical-align: middle;\n",
       "    }\n",
       "\n",
       "    .dataframe tbody tr th {\n",
       "        vertical-align: top;\n",
       "    }\n",
       "\n",
       "    .dataframe thead th {\n",
       "        text-align: right;\n",
       "    }\n",
       "</style>\n",
       "<table border=\"1\" class=\"dataframe\">\n",
       "  <thead>\n",
       "    <tr style=\"text-align: right;\">\n",
       "      <th></th>\n",
       "      <th>births</th>\n",
       "      <th>lag1</th>\n",
       "      <th>lag2</th>\n",
       "      <th>lag3</th>\n",
       "      <th>MA3</th>\n",
       "      <th>MA4</th>\n",
       "      <th>MAX_5</th>\n",
       "      <th>MIN_5</th>\n",
       "    </tr>\n",
       "    <tr>\n",
       "      <th>date</th>\n",
       "      <th></th>\n",
       "      <th></th>\n",
       "      <th></th>\n",
       "      <th></th>\n",
       "      <th></th>\n",
       "      <th></th>\n",
       "      <th></th>\n",
       "      <th></th>\n",
       "    </tr>\n",
       "  </thead>\n",
       "  <tbody>\n",
       "    <tr>\n",
       "      <th>1959-01-01</th>\n",
       "      <td>35</td>\n",
       "      <td>NaN</td>\n",
       "      <td>NaN</td>\n",
       "      <td>NaN</td>\n",
       "      <td>NaN</td>\n",
       "      <td>NaN</td>\n",
       "      <td>NaN</td>\n",
       "      <td>NaN</td>\n",
       "    </tr>\n",
       "    <tr>\n",
       "      <th>1959-01-02</th>\n",
       "      <td>32</td>\n",
       "      <td>35.0</td>\n",
       "      <td>NaN</td>\n",
       "      <td>NaN</td>\n",
       "      <td>NaN</td>\n",
       "      <td>NaN</td>\n",
       "      <td>NaN</td>\n",
       "      <td>NaN</td>\n",
       "    </tr>\n",
       "    <tr>\n",
       "      <th>1959-01-03</th>\n",
       "      <td>30</td>\n",
       "      <td>32.0</td>\n",
       "      <td>35.0</td>\n",
       "      <td>NaN</td>\n",
       "      <td>32.333333</td>\n",
       "      <td>NaN</td>\n",
       "      <td>NaN</td>\n",
       "      <td>NaN</td>\n",
       "    </tr>\n",
       "    <tr>\n",
       "      <th>1959-01-04</th>\n",
       "      <td>31</td>\n",
       "      <td>30.0</td>\n",
       "      <td>32.0</td>\n",
       "      <td>35.0</td>\n",
       "      <td>31.000000</td>\n",
       "      <td>32.00</td>\n",
       "      <td>NaN</td>\n",
       "      <td>NaN</td>\n",
       "    </tr>\n",
       "    <tr>\n",
       "      <th>1959-01-05</th>\n",
       "      <td>44</td>\n",
       "      <td>31.0</td>\n",
       "      <td>30.0</td>\n",
       "      <td>32.0</td>\n",
       "      <td>35.000000</td>\n",
       "      <td>34.25</td>\n",
       "      <td>44.0</td>\n",
       "      <td>30.0</td>\n",
       "    </tr>\n",
       "  </tbody>\n",
       "</table>\n",
       "</div>"
      ],
      "text/plain": [
       "            births  lag1  lag2  lag3        MA3    MA4  MAX_5  MIN_5\n",
       "date                                                                \n",
       "1959-01-01      35   NaN   NaN   NaN        NaN    NaN    NaN    NaN\n",
       "1959-01-02      32  35.0   NaN   NaN        NaN    NaN    NaN    NaN\n",
       "1959-01-03      30  32.0  35.0   NaN  32.333333    NaN    NaN    NaN\n",
       "1959-01-04      31  30.0  32.0  35.0  31.000000  32.00    NaN    NaN\n",
       "1959-01-05      44  31.0  30.0  32.0  35.000000  34.25   44.0   30.0"
      ]
     },
     "execution_count": 78,
     "metadata": {},
     "output_type": "execute_result"
    }
   ],
   "source": [
    "f_birth['MIN_5']=f_birth['births'].rolling(window=5).min()\n",
    "f_birth.head()"
   ]
  },
  {
   "cell_type": "code",
   "execution_count": null,
   "metadata": {},
   "outputs": [],
   "source": []
  },
  {
   "cell_type": "code",
   "execution_count": 79,
   "metadata": {},
   "outputs": [],
   "source": [
    "### to capture day from date"
   ]
  },
  {
   "cell_type": "code",
   "execution_count": 80,
   "metadata": {},
   "outputs": [],
   "source": [
    "f_birth['day']=f_birth.index.day"
   ]
  },
  {
   "cell_type": "code",
   "execution_count": 81,
   "metadata": {},
   "outputs": [
    {
     "data": {
      "text/html": [
       "<div>\n",
       "<style scoped>\n",
       "    .dataframe tbody tr th:only-of-type {\n",
       "        vertical-align: middle;\n",
       "    }\n",
       "\n",
       "    .dataframe tbody tr th {\n",
       "        vertical-align: top;\n",
       "    }\n",
       "\n",
       "    .dataframe thead th {\n",
       "        text-align: right;\n",
       "    }\n",
       "</style>\n",
       "<table border=\"1\" class=\"dataframe\">\n",
       "  <thead>\n",
       "    <tr style=\"text-align: right;\">\n",
       "      <th></th>\n",
       "      <th>births</th>\n",
       "      <th>lag1</th>\n",
       "      <th>lag2</th>\n",
       "      <th>lag3</th>\n",
       "      <th>MA3</th>\n",
       "      <th>MA4</th>\n",
       "      <th>MAX_5</th>\n",
       "      <th>MIN_5</th>\n",
       "      <th>day</th>\n",
       "    </tr>\n",
       "    <tr>\n",
       "      <th>date</th>\n",
       "      <th></th>\n",
       "      <th></th>\n",
       "      <th></th>\n",
       "      <th></th>\n",
       "      <th></th>\n",
       "      <th></th>\n",
       "      <th></th>\n",
       "      <th></th>\n",
       "      <th></th>\n",
       "    </tr>\n",
       "  </thead>\n",
       "  <tbody>\n",
       "    <tr>\n",
       "      <th>1959-01-01</th>\n",
       "      <td>35</td>\n",
       "      <td>NaN</td>\n",
       "      <td>NaN</td>\n",
       "      <td>NaN</td>\n",
       "      <td>NaN</td>\n",
       "      <td>NaN</td>\n",
       "      <td>NaN</td>\n",
       "      <td>NaN</td>\n",
       "      <td>1</td>\n",
       "    </tr>\n",
       "    <tr>\n",
       "      <th>1959-01-02</th>\n",
       "      <td>32</td>\n",
       "      <td>35.0</td>\n",
       "      <td>NaN</td>\n",
       "      <td>NaN</td>\n",
       "      <td>NaN</td>\n",
       "      <td>NaN</td>\n",
       "      <td>NaN</td>\n",
       "      <td>NaN</td>\n",
       "      <td>2</td>\n",
       "    </tr>\n",
       "    <tr>\n",
       "      <th>1959-01-03</th>\n",
       "      <td>30</td>\n",
       "      <td>32.0</td>\n",
       "      <td>35.0</td>\n",
       "      <td>NaN</td>\n",
       "      <td>32.333333</td>\n",
       "      <td>NaN</td>\n",
       "      <td>NaN</td>\n",
       "      <td>NaN</td>\n",
       "      <td>3</td>\n",
       "    </tr>\n",
       "    <tr>\n",
       "      <th>1959-01-04</th>\n",
       "      <td>31</td>\n",
       "      <td>30.0</td>\n",
       "      <td>32.0</td>\n",
       "      <td>35.0</td>\n",
       "      <td>31.000000</td>\n",
       "      <td>32.00</td>\n",
       "      <td>NaN</td>\n",
       "      <td>NaN</td>\n",
       "      <td>4</td>\n",
       "    </tr>\n",
       "    <tr>\n",
       "      <th>1959-01-05</th>\n",
       "      <td>44</td>\n",
       "      <td>31.0</td>\n",
       "      <td>30.0</td>\n",
       "      <td>32.0</td>\n",
       "      <td>35.000000</td>\n",
       "      <td>34.25</td>\n",
       "      <td>44.0</td>\n",
       "      <td>30.0</td>\n",
       "      <td>5</td>\n",
       "    </tr>\n",
       "  </tbody>\n",
       "</table>\n",
       "</div>"
      ],
      "text/plain": [
       "            births  lag1  lag2  lag3        MA3    MA4  MAX_5  MIN_5  day\n",
       "date                                                                     \n",
       "1959-01-01      35   NaN   NaN   NaN        NaN    NaN    NaN    NaN    1\n",
       "1959-01-02      32  35.0   NaN   NaN        NaN    NaN    NaN    NaN    2\n",
       "1959-01-03      30  32.0  35.0   NaN  32.333333    NaN    NaN    NaN    3\n",
       "1959-01-04      31  30.0  32.0  35.0  31.000000  32.00    NaN    NaN    4\n",
       "1959-01-05      44  31.0  30.0  32.0  35.000000  34.25   44.0   30.0    5"
      ]
     },
     "execution_count": 81,
     "metadata": {},
     "output_type": "execute_result"
    }
   ],
   "source": [
    "f_birth.head()"
   ]
  },
  {
   "cell_type": "code",
   "execution_count": 82,
   "metadata": {},
   "outputs": [],
   "source": [
    "f_birth['month']=f_birth.index.month"
   ]
  },
  {
   "cell_type": "code",
   "execution_count": 83,
   "metadata": {},
   "outputs": [
    {
     "data": {
      "text/html": [
       "<div>\n",
       "<style scoped>\n",
       "    .dataframe tbody tr th:only-of-type {\n",
       "        vertical-align: middle;\n",
       "    }\n",
       "\n",
       "    .dataframe tbody tr th {\n",
       "        vertical-align: top;\n",
       "    }\n",
       "\n",
       "    .dataframe thead th {\n",
       "        text-align: right;\n",
       "    }\n",
       "</style>\n",
       "<table border=\"1\" class=\"dataframe\">\n",
       "  <thead>\n",
       "    <tr style=\"text-align: right;\">\n",
       "      <th></th>\n",
       "      <th>births</th>\n",
       "      <th>lag1</th>\n",
       "      <th>lag2</th>\n",
       "      <th>lag3</th>\n",
       "      <th>MA3</th>\n",
       "      <th>MA4</th>\n",
       "      <th>MAX_5</th>\n",
       "      <th>MIN_5</th>\n",
       "      <th>day</th>\n",
       "      <th>month</th>\n",
       "    </tr>\n",
       "    <tr>\n",
       "      <th>date</th>\n",
       "      <th></th>\n",
       "      <th></th>\n",
       "      <th></th>\n",
       "      <th></th>\n",
       "      <th></th>\n",
       "      <th></th>\n",
       "      <th></th>\n",
       "      <th></th>\n",
       "      <th></th>\n",
       "      <th></th>\n",
       "    </tr>\n",
       "  </thead>\n",
       "  <tbody>\n",
       "    <tr>\n",
       "      <th>1959-01-01</th>\n",
       "      <td>35</td>\n",
       "      <td>NaN</td>\n",
       "      <td>NaN</td>\n",
       "      <td>NaN</td>\n",
       "      <td>NaN</td>\n",
       "      <td>NaN</td>\n",
       "      <td>NaN</td>\n",
       "      <td>NaN</td>\n",
       "      <td>1</td>\n",
       "      <td>1</td>\n",
       "    </tr>\n",
       "    <tr>\n",
       "      <th>1959-01-02</th>\n",
       "      <td>32</td>\n",
       "      <td>35.0</td>\n",
       "      <td>NaN</td>\n",
       "      <td>NaN</td>\n",
       "      <td>NaN</td>\n",
       "      <td>NaN</td>\n",
       "      <td>NaN</td>\n",
       "      <td>NaN</td>\n",
       "      <td>2</td>\n",
       "      <td>1</td>\n",
       "    </tr>\n",
       "    <tr>\n",
       "      <th>1959-01-03</th>\n",
       "      <td>30</td>\n",
       "      <td>32.0</td>\n",
       "      <td>35.0</td>\n",
       "      <td>NaN</td>\n",
       "      <td>32.333333</td>\n",
       "      <td>NaN</td>\n",
       "      <td>NaN</td>\n",
       "      <td>NaN</td>\n",
       "      <td>3</td>\n",
       "      <td>1</td>\n",
       "    </tr>\n",
       "    <tr>\n",
       "      <th>1959-01-04</th>\n",
       "      <td>31</td>\n",
       "      <td>30.0</td>\n",
       "      <td>32.0</td>\n",
       "      <td>35.0</td>\n",
       "      <td>31.000000</td>\n",
       "      <td>32.00</td>\n",
       "      <td>NaN</td>\n",
       "      <td>NaN</td>\n",
       "      <td>4</td>\n",
       "      <td>1</td>\n",
       "    </tr>\n",
       "    <tr>\n",
       "      <th>1959-01-05</th>\n",
       "      <td>44</td>\n",
       "      <td>31.0</td>\n",
       "      <td>30.0</td>\n",
       "      <td>32.0</td>\n",
       "      <td>35.000000</td>\n",
       "      <td>34.25</td>\n",
       "      <td>44.0</td>\n",
       "      <td>30.0</td>\n",
       "      <td>5</td>\n",
       "      <td>1</td>\n",
       "    </tr>\n",
       "  </tbody>\n",
       "</table>\n",
       "</div>"
      ],
      "text/plain": [
       "            births  lag1  lag2  lag3        MA3    MA4  MAX_5  MIN_5  day  \\\n",
       "date                                                                        \n",
       "1959-01-01      35   NaN   NaN   NaN        NaN    NaN    NaN    NaN    1   \n",
       "1959-01-02      32  35.0   NaN   NaN        NaN    NaN    NaN    NaN    2   \n",
       "1959-01-03      30  32.0  35.0   NaN  32.333333    NaN    NaN    NaN    3   \n",
       "1959-01-04      31  30.0  32.0  35.0  31.000000  32.00    NaN    NaN    4   \n",
       "1959-01-05      44  31.0  30.0  32.0  35.000000  34.25   44.0   30.0    5   \n",
       "\n",
       "            month  \n",
       "date               \n",
       "1959-01-01      1  \n",
       "1959-01-02      1  \n",
       "1959-01-03      1  \n",
       "1959-01-04      1  \n",
       "1959-01-05      1  "
      ]
     },
     "execution_count": 83,
     "metadata": {},
     "output_type": "execute_result"
    }
   ],
   "source": [
    "f_birth.head()"
   ]
  },
  {
   "cell_type": "markdown",
   "metadata": {},
   "source": [
    "#### we can also create dummy variable if we want to explore our data more"
   ]
  },
  {
   "cell_type": "code",
   "execution_count": null,
   "metadata": {},
   "outputs": [],
   "source": []
  },
  {
   "cell_type": "code",
   "execution_count": 84,
   "metadata": {},
   "outputs": [],
   "source": [
    "f_birth['year']=f_birth.index.year"
   ]
  },
  {
   "cell_type": "code",
   "execution_count": 85,
   "metadata": {},
   "outputs": [
    {
     "data": {
      "text/html": [
       "<div>\n",
       "<style scoped>\n",
       "    .dataframe tbody tr th:only-of-type {\n",
       "        vertical-align: middle;\n",
       "    }\n",
       "\n",
       "    .dataframe tbody tr th {\n",
       "        vertical-align: top;\n",
       "    }\n",
       "\n",
       "    .dataframe thead th {\n",
       "        text-align: right;\n",
       "    }\n",
       "</style>\n",
       "<table border=\"1\" class=\"dataframe\">\n",
       "  <thead>\n",
       "    <tr style=\"text-align: right;\">\n",
       "      <th></th>\n",
       "      <th>births</th>\n",
       "      <th>lag1</th>\n",
       "      <th>lag2</th>\n",
       "      <th>lag3</th>\n",
       "      <th>MA3</th>\n",
       "      <th>MA4</th>\n",
       "      <th>MAX_5</th>\n",
       "      <th>MIN_5</th>\n",
       "      <th>day</th>\n",
       "      <th>month</th>\n",
       "      <th>year</th>\n",
       "    </tr>\n",
       "    <tr>\n",
       "      <th>date</th>\n",
       "      <th></th>\n",
       "      <th></th>\n",
       "      <th></th>\n",
       "      <th></th>\n",
       "      <th></th>\n",
       "      <th></th>\n",
       "      <th></th>\n",
       "      <th></th>\n",
       "      <th></th>\n",
       "      <th></th>\n",
       "      <th></th>\n",
       "    </tr>\n",
       "  </thead>\n",
       "  <tbody>\n",
       "    <tr>\n",
       "      <th>1959-01-01</th>\n",
       "      <td>35</td>\n",
       "      <td>NaN</td>\n",
       "      <td>NaN</td>\n",
       "      <td>NaN</td>\n",
       "      <td>NaN</td>\n",
       "      <td>NaN</td>\n",
       "      <td>NaN</td>\n",
       "      <td>NaN</td>\n",
       "      <td>1</td>\n",
       "      <td>1</td>\n",
       "      <td>1959</td>\n",
       "    </tr>\n",
       "    <tr>\n",
       "      <th>1959-01-02</th>\n",
       "      <td>32</td>\n",
       "      <td>35.0</td>\n",
       "      <td>NaN</td>\n",
       "      <td>NaN</td>\n",
       "      <td>NaN</td>\n",
       "      <td>NaN</td>\n",
       "      <td>NaN</td>\n",
       "      <td>NaN</td>\n",
       "      <td>2</td>\n",
       "      <td>1</td>\n",
       "      <td>1959</td>\n",
       "    </tr>\n",
       "    <tr>\n",
       "      <th>1959-01-03</th>\n",
       "      <td>30</td>\n",
       "      <td>32.0</td>\n",
       "      <td>35.0</td>\n",
       "      <td>NaN</td>\n",
       "      <td>32.333333</td>\n",
       "      <td>NaN</td>\n",
       "      <td>NaN</td>\n",
       "      <td>NaN</td>\n",
       "      <td>3</td>\n",
       "      <td>1</td>\n",
       "      <td>1959</td>\n",
       "    </tr>\n",
       "    <tr>\n",
       "      <th>1959-01-04</th>\n",
       "      <td>31</td>\n",
       "      <td>30.0</td>\n",
       "      <td>32.0</td>\n",
       "      <td>35.0</td>\n",
       "      <td>31.000000</td>\n",
       "      <td>32.00</td>\n",
       "      <td>NaN</td>\n",
       "      <td>NaN</td>\n",
       "      <td>4</td>\n",
       "      <td>1</td>\n",
       "      <td>1959</td>\n",
       "    </tr>\n",
       "    <tr>\n",
       "      <th>1959-01-05</th>\n",
       "      <td>44</td>\n",
       "      <td>31.0</td>\n",
       "      <td>30.0</td>\n",
       "      <td>32.0</td>\n",
       "      <td>35.000000</td>\n",
       "      <td>34.25</td>\n",
       "      <td>44.0</td>\n",
       "      <td>30.0</td>\n",
       "      <td>5</td>\n",
       "      <td>1</td>\n",
       "      <td>1959</td>\n",
       "    </tr>\n",
       "  </tbody>\n",
       "</table>\n",
       "</div>"
      ],
      "text/plain": [
       "            births  lag1  lag2  lag3        MA3    MA4  MAX_5  MIN_5  day  \\\n",
       "date                                                                        \n",
       "1959-01-01      35   NaN   NaN   NaN        NaN    NaN    NaN    NaN    1   \n",
       "1959-01-02      32  35.0   NaN   NaN        NaN    NaN    NaN    NaN    2   \n",
       "1959-01-03      30  32.0  35.0   NaN  32.333333    NaN    NaN    NaN    3   \n",
       "1959-01-04      31  30.0  32.0  35.0  31.000000  32.00    NaN    NaN    4   \n",
       "1959-01-05      44  31.0  30.0  32.0  35.000000  34.25   44.0   30.0    5   \n",
       "\n",
       "            month  year  \n",
       "date                     \n",
       "1959-01-01      1  1959  \n",
       "1959-01-02      1  1959  \n",
       "1959-01-03      1  1959  \n",
       "1959-01-04      1  1959  \n",
       "1959-01-05      1  1959  "
      ]
     },
     "execution_count": 85,
     "metadata": {},
     "output_type": "execute_result"
    }
   ],
   "source": [
    "f_birth.head()\n"
   ]
  },
  {
   "cell_type": "code",
   "execution_count": 86,
   "metadata": {},
   "outputs": [],
   "source": [
    "#### remove na values"
   ]
  },
  {
   "cell_type": "code",
   "execution_count": 87,
   "metadata": {},
   "outputs": [],
   "source": [
    "f_birth.dropna(inplace=True)"
   ]
  },
  {
   "cell_type": "markdown",
   "metadata": {},
   "source": [
    "### 4. Stationery Time series Testing"
   ]
  },
  {
   "cell_type": "markdown",
   "metadata": {},
   "source": [
    "#### test whether your time-series has been stationery or not\n"
   ]
  },
  {
   "cell_type": "raw",
   "metadata": {},
   "source": [
    "1.visualizing Time series\n",
    "2.Dickey Fuller Test(Statistical Test)\n",
    "3.Constant mean & variance"
   ]
  },
  {
   "cell_type": "markdown",
   "metadata": {},
   "source": [
    "#### getting trend"
   ]
  },
  {
   "cell_type": "code",
   "execution_count": 88,
   "metadata": {},
   "outputs": [
    {
     "data": {
      "text/plain": [
       "<AxesSubplot:xlabel='date'>"
      ]
     },
     "execution_count": 88,
     "metadata": {},
     "output_type": "execute_result"
    },
    {
     "data": {
      "image/png": "[encoded data removed]",
      "text/plain": [
       "<Figure size 432x288 with 1 Axes>"
      ]
     },
     "metadata": {
      "needs_background": "light"
     },
     "output_type": "display_data"
    }
   ],
   "source": [
    "f_birth['births'].plot()"
   ]
  },
  {
   "cell_type": "markdown",
   "metadata": {},
   "source": [
    "#### now here we will see there is a bit of trend or seasonality here, as variance is not constant here\n"
   ]
  },
  {
   "cell_type": "code",
   "execution_count": 89,
   "metadata": {},
   "outputs": [
    {
     "data": {
      "text/plain": [
       "<AxesSubplot:>"
      ]
     },
     "execution_count": 89,
     "metadata": {},
     "output_type": "execute_result"
    },
    {
     "data": {
      "image/png": "[encoded data removed]",
      "text/plain": [
       "<Figure size 432x288 with 1 Axes>"
      ]
     },
     "metadata": {
      "needs_background": "light"
     },
     "output_type": "display_data"
    }
   ],
   "source": [
    "f_birth['births'].hist()"
   ]
  },
  {
   "cell_type": "code",
   "execution_count": null,
   "metadata": {},
   "outputs": [],
   "source": []
  },
  {
   "cell_type": "markdown",
   "metadata": {},
   "source": [
    "#### looks to normal distribution but little bit skewes to right side"
   ]
  },
  {
   "cell_type": "code",
   "execution_count": 90,
   "metadata": {},
   "outputs": [],
   "source": [
    "f_birth_1=f_birth[0:201]\n",
    "f_birth_2=f_birth[201:]"
   ]
  },
  {
   "cell_type": "code",
   "execution_count": 91,
   "metadata": {},
   "outputs": [
    {
     "data": {
      "text/html": [
       "<div>\n",
       "<style scoped>\n",
       "    .dataframe tbody tr th:only-of-type {\n",
       "        vertical-align: middle;\n",
       "    }\n",
       "\n",
       "    .dataframe tbody tr th {\n",
       "        vertical-align: top;\n",
       "    }\n",
       "\n",
       "    .dataframe thead th {\n",
       "        text-align: right;\n",
       "    }\n",
       "</style>\n",
       "<table border=\"1\" class=\"dataframe\">\n",
       "  <thead>\n",
       "    <tr style=\"text-align: right;\">\n",
       "      <th></th>\n",
       "      <th>births</th>\n",
       "      <th>lag1</th>\n",
       "      <th>lag2</th>\n",
       "      <th>lag3</th>\n",
       "      <th>MA3</th>\n",
       "      <th>MA4</th>\n",
       "      <th>MAX_5</th>\n",
       "      <th>MIN_5</th>\n",
       "      <th>day</th>\n",
       "      <th>month</th>\n",
       "      <th>year</th>\n",
       "    </tr>\n",
       "    <tr>\n",
       "      <th>date</th>\n",
       "      <th></th>\n",
       "      <th></th>\n",
       "      <th></th>\n",
       "      <th></th>\n",
       "      <th></th>\n",
       "      <th></th>\n",
       "      <th></th>\n",
       "      <th></th>\n",
       "      <th></th>\n",
       "      <th></th>\n",
       "      <th></th>\n",
       "    </tr>\n",
       "  </thead>\n",
       "  <tbody>\n",
       "    <tr>\n",
       "      <th>1959-01-05</th>\n",
       "      <td>44</td>\n",
       "      <td>31.0</td>\n",
       "      <td>30.0</td>\n",
       "      <td>32.0</td>\n",
       "      <td>35.000000</td>\n",
       "      <td>34.25</td>\n",
       "      <td>44.0</td>\n",
       "      <td>30.0</td>\n",
       "      <td>5</td>\n",
       "      <td>1</td>\n",
       "      <td>1959</td>\n",
       "    </tr>\n",
       "    <tr>\n",
       "      <th>1959-01-06</th>\n",
       "      <td>29</td>\n",
       "      <td>44.0</td>\n",
       "      <td>31.0</td>\n",
       "      <td>30.0</td>\n",
       "      <td>34.666667</td>\n",
       "      <td>33.50</td>\n",
       "      <td>44.0</td>\n",
       "      <td>29.0</td>\n",
       "      <td>6</td>\n",
       "      <td>1</td>\n",
       "      <td>1959</td>\n",
       "    </tr>\n",
       "    <tr>\n",
       "      <th>1959-01-07</th>\n",
       "      <td>45</td>\n",
       "      <td>29.0</td>\n",
       "      <td>44.0</td>\n",
       "      <td>31.0</td>\n",
       "      <td>39.333333</td>\n",
       "      <td>37.25</td>\n",
       "      <td>45.0</td>\n",
       "      <td>29.0</td>\n",
       "      <td>7</td>\n",
       "      <td>1</td>\n",
       "      <td>1959</td>\n",
       "    </tr>\n",
       "    <tr>\n",
       "      <th>1959-01-08</th>\n",
       "      <td>43</td>\n",
       "      <td>45.0</td>\n",
       "      <td>29.0</td>\n",
       "      <td>44.0</td>\n",
       "      <td>39.000000</td>\n",
       "      <td>40.25</td>\n",
       "      <td>45.0</td>\n",
       "      <td>29.0</td>\n",
       "      <td>8</td>\n",
       "      <td>1</td>\n",
       "      <td>1959</td>\n",
       "    </tr>\n",
       "    <tr>\n",
       "      <th>1959-01-09</th>\n",
       "      <td>38</td>\n",
       "      <td>43.0</td>\n",
       "      <td>45.0</td>\n",
       "      <td>29.0</td>\n",
       "      <td>42.000000</td>\n",
       "      <td>38.75</td>\n",
       "      <td>45.0</td>\n",
       "      <td>29.0</td>\n",
       "      <td>9</td>\n",
       "      <td>1</td>\n",
       "      <td>1959</td>\n",
       "    </tr>\n",
       "  </tbody>\n",
       "</table>\n",
       "</div>"
      ],
      "text/plain": [
       "            births  lag1  lag2  lag3        MA3    MA4  MAX_5  MIN_5  day  \\\n",
       "date                                                                        \n",
       "1959-01-05      44  31.0  30.0  32.0  35.000000  34.25   44.0   30.0    5   \n",
       "1959-01-06      29  44.0  31.0  30.0  34.666667  33.50   44.0   29.0    6   \n",
       "1959-01-07      45  29.0  44.0  31.0  39.333333  37.25   45.0   29.0    7   \n",
       "1959-01-08      43  45.0  29.0  44.0  39.000000  40.25   45.0   29.0    8   \n",
       "1959-01-09      38  43.0  45.0  29.0  42.000000  38.75   45.0   29.0    9   \n",
       "\n",
       "            month  year  \n",
       "date                     \n",
       "1959-01-05      1  1959  \n",
       "1959-01-06      1  1959  \n",
       "1959-01-07      1  1959  \n",
       "1959-01-08      1  1959  \n",
       "1959-01-09      1  1959  "
      ]
     },
     "execution_count": 91,
     "metadata": {},
     "output_type": "execute_result"
    }
   ],
   "source": [
    "f_birth_1.head()"
   ]
  },
  {
   "cell_type": "code",
   "execution_count": 92,
   "metadata": {},
   "outputs": [
    {
     "data": {
      "text/html": [
       "<div>\n",
       "<style scoped>\n",
       "    .dataframe tbody tr th:only-of-type {\n",
       "        vertical-align: middle;\n",
       "    }\n",
       "\n",
       "    .dataframe tbody tr th {\n",
       "        vertical-align: top;\n",
       "    }\n",
       "\n",
       "    .dataframe thead th {\n",
       "        text-align: right;\n",
       "    }\n",
       "</style>\n",
       "<table border=\"1\" class=\"dataframe\">\n",
       "  <thead>\n",
       "    <tr style=\"text-align: right;\">\n",
       "      <th></th>\n",
       "      <th>births</th>\n",
       "      <th>lag1</th>\n",
       "      <th>lag2</th>\n",
       "      <th>lag3</th>\n",
       "      <th>MA3</th>\n",
       "      <th>MA4</th>\n",
       "      <th>MAX_5</th>\n",
       "      <th>MIN_5</th>\n",
       "      <th>day</th>\n",
       "      <th>month</th>\n",
       "      <th>year</th>\n",
       "    </tr>\n",
       "    <tr>\n",
       "      <th>date</th>\n",
       "      <th></th>\n",
       "      <th></th>\n",
       "      <th></th>\n",
       "      <th></th>\n",
       "      <th></th>\n",
       "      <th></th>\n",
       "      <th></th>\n",
       "      <th></th>\n",
       "      <th></th>\n",
       "      <th></th>\n",
       "      <th></th>\n",
       "    </tr>\n",
       "  </thead>\n",
       "  <tbody>\n",
       "    <tr>\n",
       "      <th>1959-07-25</th>\n",
       "      <td>36</td>\n",
       "      <td>35.0</td>\n",
       "      <td>42.0</td>\n",
       "      <td>38.0</td>\n",
       "      <td>37.666667</td>\n",
       "      <td>37.75</td>\n",
       "      <td>47.0</td>\n",
       "      <td>35.0</td>\n",
       "      <td>25</td>\n",
       "      <td>7</td>\n",
       "      <td>1959</td>\n",
       "    </tr>\n",
       "    <tr>\n",
       "      <th>1959-07-26</th>\n",
       "      <td>39</td>\n",
       "      <td>36.0</td>\n",
       "      <td>35.0</td>\n",
       "      <td>42.0</td>\n",
       "      <td>36.666667</td>\n",
       "      <td>38.00</td>\n",
       "      <td>42.0</td>\n",
       "      <td>35.0</td>\n",
       "      <td>26</td>\n",
       "      <td>7</td>\n",
       "      <td>1959</td>\n",
       "    </tr>\n",
       "    <tr>\n",
       "      <th>1959-07-27</th>\n",
       "      <td>45</td>\n",
       "      <td>39.0</td>\n",
       "      <td>36.0</td>\n",
       "      <td>35.0</td>\n",
       "      <td>40.000000</td>\n",
       "      <td>38.75</td>\n",
       "      <td>45.0</td>\n",
       "      <td>35.0</td>\n",
       "      <td>27</td>\n",
       "      <td>7</td>\n",
       "      <td>1959</td>\n",
       "    </tr>\n",
       "    <tr>\n",
       "      <th>1959-07-28</th>\n",
       "      <td>43</td>\n",
       "      <td>45.0</td>\n",
       "      <td>39.0</td>\n",
       "      <td>36.0</td>\n",
       "      <td>42.333333</td>\n",
       "      <td>40.75</td>\n",
       "      <td>45.0</td>\n",
       "      <td>35.0</td>\n",
       "      <td>28</td>\n",
       "      <td>7</td>\n",
       "      <td>1959</td>\n",
       "    </tr>\n",
       "    <tr>\n",
       "      <th>1959-07-29</th>\n",
       "      <td>47</td>\n",
       "      <td>43.0</td>\n",
       "      <td>45.0</td>\n",
       "      <td>39.0</td>\n",
       "      <td>45.000000</td>\n",
       "      <td>43.50</td>\n",
       "      <td>47.0</td>\n",
       "      <td>36.0</td>\n",
       "      <td>29</td>\n",
       "      <td>7</td>\n",
       "      <td>1959</td>\n",
       "    </tr>\n",
       "  </tbody>\n",
       "</table>\n",
       "</div>"
      ],
      "text/plain": [
       "            births  lag1  lag2  lag3        MA3    MA4  MAX_5  MIN_5  day  \\\n",
       "date                                                                        \n",
       "1959-07-25      36  35.0  42.0  38.0  37.666667  37.75   47.0   35.0   25   \n",
       "1959-07-26      39  36.0  35.0  42.0  36.666667  38.00   42.0   35.0   26   \n",
       "1959-07-27      45  39.0  36.0  35.0  40.000000  38.75   45.0   35.0   27   \n",
       "1959-07-28      43  45.0  39.0  36.0  42.333333  40.75   45.0   35.0   28   \n",
       "1959-07-29      47  43.0  45.0  39.0  45.000000  43.50   47.0   36.0   29   \n",
       "\n",
       "            month  year  \n",
       "date                     \n",
       "1959-07-25      7  1959  \n",
       "1959-07-26      7  1959  \n",
       "1959-07-27      7  1959  \n",
       "1959-07-28      7  1959  \n",
       "1959-07-29      7  1959  "
      ]
     },
     "execution_count": 92,
     "metadata": {},
     "output_type": "execute_result"
    }
   ],
   "source": [
    "f_birth_2.head()"
   ]
  },
  {
   "cell_type": "code",
   "execution_count": null,
   "metadata": {},
   "outputs": [],
   "source": []
  },
  {
   "cell_type": "code",
   "execution_count": 93,
   "metadata": {},
   "outputs": [
    {
     "data": {
      "text/plain": [
       "40.19402985074627"
      ]
     },
     "execution_count": 93,
     "metadata": {},
     "output_type": "execute_result"
    }
   ],
   "source": [
    "f_birth_1['births'].mean()"
   ]
  },
  {
   "cell_type": "code",
   "execution_count": 94,
   "metadata": {},
   "outputs": [
    {
     "data": {
      "text/plain": [
       "44.475"
      ]
     },
     "execution_count": 94,
     "metadata": {},
     "output_type": "execute_result"
    }
   ],
   "source": [
    "f_birth_2['births'].mean()"
   ]
  },
  {
   "cell_type": "markdown",
   "metadata": {},
   "source": [
    "#### we know our assumption for our stationery time-series is that mean should be same, but here mean is variating"
   ]
  },
  {
   "cell_type": "markdown",
   "metadata": {},
   "source": [
    "### so we can say it is not stationery  lets run another test to check whether it is stationery or not"
   ]
  },
  {
   "cell_type": "code",
   "execution_count": 95,
   "metadata": {},
   "outputs": [
    {
     "data": {
      "text/plain": [
       "48.33716417910449"
      ]
     },
     "execution_count": 95,
     "metadata": {},
     "output_type": "execute_result"
    }
   ],
   "source": [
    "f_birth_1['births'].var()"
   ]
  },
  {
   "cell_type": "code",
   "execution_count": 96,
   "metadata": {},
   "outputs": [
    {
     "data": {
      "text/plain": [
       "49.92389937106918"
      ]
     },
     "execution_count": 96,
     "metadata": {},
     "output_type": "execute_result"
    }
   ],
   "source": [
    "f_birth_2['births'].var()"
   ]
  },
  {
   "cell_type": "code",
   "execution_count": null,
   "metadata": {},
   "outputs": [],
   "source": []
  },
  {
   "cell_type": "markdown",
   "metadata": {},
   "source": [
    "#### hence by visualising graph we can conclude yahh it has a bit of seasonality with a constant variance"
   ]
  },
  {
   "cell_type": "markdown",
   "metadata": {},
   "source": [
    "### Next is Dickey Fuller Test"
   ]
  },
  {
   "cell_type": "markdown",
   "metadata": {},
   "source": [
    "    dickery fuller test or Augumented Dickey Fuller(adfuller) test tells us how strongly Time-series is defined by a trend"
   ]
  },
  {
   "cell_type": "code",
   "execution_count": 97,
   "metadata": {},
   "outputs": [],
   "source": [
    "#### adfuller gives 5 values ['ADF Test Statistic','p-value','#Lags Used','Number of Observations Used']\n",
    "# most imp is p-value(almost similar to Hypothesis testing)\n",
    "# lags are those which are our previous Data"
   ]
  },
  {
   "cell_type": "code",
   "execution_count": 98,
   "metadata": {},
   "outputs": [],
   "source": [
    "from statsmodels.tsa.stattools import adfuller"
   ]
  },
  {
   "cell_type": "code",
   "execution_count": 99,
   "metadata": {},
   "outputs": [],
   "source": [
    "\n",
    "def adfuller_test(column):\n",
    "    result=adfuller(column)\n",
    "    labels = ['ADF Test Statistic','p-value','#Lags Used','Number of Observations Used']\n",
    "    \n",
    "    ## #zip basically combines result,labels\n",
    "    for value,label in zip(result,labels):\n",
    "        print(' {}: {}'.format(label,value))\n",
    "    if result[1] <= 0.05:\n",
    "        print(\"strong evidence against the null hypothesis(Ho), reject the null hypothesis. Data has no unit root and is stationary\")\n",
    "    else:\n",
    "        print(\"weak evidence against null hypothesis, time series has a unit root, indicating it is non-stationary \")\n",
    "\n"
   ]
  },
  {
   "cell_type": "code",
   "execution_count": 100,
   "metadata": {},
   "outputs": [
    {
     "name": "stdout",
     "output_type": "stream",
     "text": [
      " ADF Test Statistic: -13.198304128015678\n",
      " p-value: 1.1076885620358796e-24\n",
      " #Lags Used: 0\n",
      " Number of Observations Used: 200\n",
      "strong evidence against the null hypothesis(Ho), reject the null hypothesis. Data has no unit root and is stationary\n"
     ]
    }
   ],
   "source": [
    "adfuller_test(f_birth_1['births'])\n"
   ]
  },
  {
   "cell_type": "code",
   "execution_count": null,
   "metadata": {},
   "outputs": [],
   "source": []
  },
  {
   "cell_type": "markdown",
   "metadata": {},
   "source": [
    "### tune your parameter of time-series (Hyper-parameter Tuning)"
   ]
  },
  {
   "cell_type": "markdown",
   "metadata": {},
   "source": [
    "#### all about playing with params (P,d,q) so whichever pair will give less error select those pair"
   ]
  },
  {
   "cell_type": "code",
   "execution_count": 101,
   "metadata": {},
   "outputs": [],
   "source": [
    "import numpy as np\n",
    "import pandas as pd\n",
    "import matplotlib.pyplot as plt"
   ]
  },
  {
   "cell_type": "code",
   "execution_count": 102,
   "metadata": {},
   "outputs": [],
   "source": [
    "from statsmodels.tsa.arima_model import ARIMA"
   ]
  },
  {
   "cell_type": "code",
   "execution_count": 103,
   "metadata": {},
   "outputs": [],
   "source": [
    "from sklearn.metrics import mean_squared_error"
   ]
  },
  {
   "cell_type": "code",
   "execution_count": 105,
   "metadata": {},
   "outputs": [],
   "source": [
    "f_birth=pd.read_csv('daily-total-female-births-CA.csv',parse_dates=[0],index_col=0)"
   ]
  },
  {
   "cell_type": "code",
   "execution_count": 106,
   "metadata": {},
   "outputs": [],
   "source": [
    "#### now define hyper-para=meters \n",
    "p_values=range(0,8)\n",
    "d_values=range(0,3)\n",
    "q_values=range(0,5)\n"
   ]
  },
  {
   "cell_type": "code",
   "execution_count": 107,
   "metadata": {},
   "outputs": [
    {
     "name": "stdout",
     "output_type": "stream",
     "text": [
      "(0, 0, 0)\n",
      "(0, 0, 1)\n",
      "(0, 0, 2)\n",
      "(0, 0, 3)\n",
      "(0, 0, 4)\n",
      "(0, 1, 0)\n",
      "(0, 1, 1)\n",
      "(0, 1, 2)\n",
      "(0, 1, 3)\n",
      "(0, 1, 4)\n",
      "(0, 2, 0)\n",
      "(0, 2, 1)\n",
      "(0, 2, 2)\n",
      "(0, 2, 3)\n",
      "(0, 2, 4)\n",
      "(1, 0, 0)\n",
      "(1, 0, 1)\n",
      "(1, 0, 2)\n",
      "(1, 0, 3)\n",
      "(1, 0, 4)\n",
      "(1, 1, 0)\n",
      "(1, 1, 1)\n",
      "(1, 1, 2)\n",
      "(1, 1, 3)\n",
      "(1, 1, 4)\n",
      "(1, 2, 0)\n",
      "(1, 2, 1)\n",
      "(1, 2, 2)\n",
      "(1, 2, 3)\n",
      "(1, 2, 4)\n",
      "(2, 0, 0)\n",
      "(2, 0, 1)\n",
      "(2, 0, 2)\n",
      "(2, 0, 3)\n",
      "(2, 0, 4)\n",
      "(2, 1, 0)\n",
      "(2, 1, 1)\n",
      "(2, 1, 2)\n",
      "(2, 1, 3)\n",
      "(2, 1, 4)\n",
      "(2, 2, 0)\n",
      "(2, 2, 1)\n",
      "(2, 2, 2)\n",
      "(2, 2, 3)\n",
      "(2, 2, 4)\n",
      "(3, 0, 0)\n",
      "(3, 0, 1)\n",
      "(3, 0, 2)\n",
      "(3, 0, 3)\n",
      "(3, 0, 4)\n",
      "(3, 1, 0)\n",
      "(3, 1, 1)\n",
      "(3, 1, 2)\n",
      "(3, 1, 3)\n",
      "(3, 1, 4)\n",
      "(3, 2, 0)\n",
      "(3, 2, 1)\n",
      "(3, 2, 2)\n",
      "(3, 2, 3)\n",
      "(3, 2, 4)\n",
      "(4, 0, 0)\n",
      "(4, 0, 1)\n",
      "(4, 0, 2)\n",
      "(4, 0, 3)\n",
      "(4, 0, 4)\n",
      "(4, 1, 0)\n",
      "(4, 1, 1)\n",
      "(4, 1, 2)\n",
      "(4, 1, 3)\n",
      "(4, 1, 4)\n",
      "(4, 2, 0)\n",
      "(4, 2, 1)\n",
      "(4, 2, 2)\n",
      "(4, 2, 3)\n",
      "(4, 2, 4)\n",
      "(5, 0, 0)\n",
      "(5, 0, 1)\n",
      "(5, 0, 2)\n",
      "(5, 0, 3)\n",
      "(5, 0, 4)\n",
      "(5, 1, 0)\n",
      "(5, 1, 1)\n",
      "(5, 1, 2)\n",
      "(5, 1, 3)\n",
      "(5, 1, 4)\n",
      "(5, 2, 0)\n",
      "(5, 2, 1)\n",
      "(5, 2, 2)\n",
      "(5, 2, 3)\n",
      "(5, 2, 4)\n",
      "(6, 0, 0)\n",
      "(6, 0, 1)\n",
      "(6, 0, 2)\n",
      "(6, 0, 3)\n",
      "(6, 0, 4)\n",
      "(6, 1, 0)\n",
      "(6, 1, 1)\n",
      "(6, 1, 2)\n",
      "(6, 1, 3)\n",
      "(6, 1, 4)\n",
      "(6, 2, 0)\n",
      "(6, 2, 1)\n",
      "(6, 2, 2)\n",
      "(6, 2, 3)\n",
      "(6, 2, 4)\n",
      "(7, 0, 0)\n",
      "(7, 0, 1)\n",
      "(7, 0, 2)\n",
      "(7, 0, 3)\n",
      "(7, 0, 4)\n",
      "(7, 1, 0)\n",
      "(7, 1, 1)\n",
      "(7, 1, 2)\n",
      "(7, 1, 3)\n",
      "(7, 1, 4)\n",
      "(7, 2, 0)\n",
      "(7, 2, 1)\n",
      "(7, 2, 2)\n",
      "(7, 2, 3)\n",
      "(7, 2, 4)\n"
     ]
    }
   ],
   "source": [
    "for p in p_values:\n",
    "    for d in d_values:\n",
    "        for q in q_values:\n",
    "            order=(p,d,q)\n",
    "            print((order))"
   ]
  },
  {
   "cell_type": "code",
   "execution_count": 108,
   "metadata": {},
   "outputs": [
    {
     "data": {
      "text/plain": [
       "range(0, 8)"
      ]
     },
     "execution_count": 108,
     "metadata": {},
     "output_type": "execute_result"
    }
   ],
   "source": [
    "p_values"
   ]
  },
  {
   "cell_type": "code",
   "execution_count": 109,
   "metadata": {},
   "outputs": [
    {
     "data": {
      "text/plain": [
       "(365, 1)"
      ]
     },
     "execution_count": 109,
     "metadata": {},
     "output_type": "execute_result"
    }
   ],
   "source": [
    "f_birth.shape"
   ]
  },
  {
   "cell_type": "code",
   "execution_count": 110,
   "metadata": {},
   "outputs": [],
   "source": [
    "import warnings\n",
    "warnings.filterwarnings('ignore')"
   ]
  },
  {
   "cell_type": "code",
   "execution_count": null,
   "metadata": {},
   "outputs": [
    {
     "name": "stdout",
     "output_type": "stream",
     "text": [
      "MSE is 56.5229112676021 with order (0, 0, 1)\n",
      "MSE is 63.8485497674681 with order (0, 0, 2)\n",
      "MSE is 62.33416344053459 with order (0, 0, 3)\n",
      "MSE is 64.77095462934489 with order (0, 0, 4)\n",
      "MSE is 40.910611703912664 with order (0, 1, 1)\n",
      "MSE is 39.77996461383904 with order (0, 1, 2)\n",
      "MSE is 39.82368826759164 with order (0, 1, 3)\n",
      "MSE is 40.18766795472243 with order (0, 1, 4)\n",
      "MSE is 290.0105110214751 with order (0, 2, 1)\n",
      "MSE is 41.931857082284665 with order (0, 2, 2)\n",
      "MSE is 40.36274231804579 with order (0, 2, 3)\n",
      "MSE is 40.61178509390627 with order (0, 2, 4)\n",
      "MSE is 62.73850596862557 with order (1, 0, 0)\n",
      "MSE is 47.07170727452302 with order (1, 0, 1)\n",
      "MSE is 192.99864231942692 with order (1, 1, 0)\n",
      "MSE is 39.71362063726892 with order (1, 1, 1)\n",
      "MSE is 42.798731980757346 with order (1, 1, 2)\n",
      "MSE is 40.235664210803535 with order (1, 1, 3)\n",
      "MSE is 39.71373399204283 with order (1, 1, 4)\n",
      "MSE is 552.276056336978 with order (1, 2, 0)\n",
      "MSE is 67.29451301039295 with order (2, 0, 0)\n",
      "MSE is 46.64310825418541 with order (2, 0, 1)\n",
      "MSE is 43.85895854774815 with order (2, 0, 2)\n",
      "MSE is 127.6381372401029 with order (2, 1, 0)\n",
      "MSE is 40.28958004326064 with order (2, 1, 1)\n",
      "MSE is 41.55263493218068 with order (2, 1, 2)\n",
      "MSE is 40.156941263453916 with order (2, 1, 3)\n",
      "MSE is 40.19699814633702 with order (2, 1, 4)\n",
      "MSE is 310.8415721091054 with order (2, 2, 0)\n",
      "MSE is 65.33589739748986 with order (3, 0, 0)\n",
      "MSE is 46.55113973238991 with order (3, 0, 1)\n",
      "MSE is 46.68266154302443 with order (3, 0, 2)\n",
      "MSE is 58.06189312152012 with order (3, 0, 3)\n",
      "MSE is 126.2652300192822 with order (3, 1, 0)\n",
      "MSE is 40.32899701242165 with order (3, 1, 1)\n",
      "MSE is 41.553403481973966 with order (3, 1, 2)\n",
      "MSE is 40.95151834858957 with order (3, 1, 3)\n",
      "MSE is 49.62533848785493 with order (3, 1, 4)\n",
      "MSE is 257.86704862076624 with order (3, 2, 0)\n",
      "MSE is 67.75699793462366 with order (4, 0, 0)\n",
      "MSE is 59.89381335195362 with order (4, 0, 1)\n",
      "MSE is 43.589421101488874 with order (4, 0, 2)\n",
      "MSE is 51.15129759382716 with order (4, 0, 3)\n",
      "MSE is 47.79448751365144 with order (4, 0, 4)\n",
      "MSE is 117.39225890146857 with order (4, 1, 0)\n",
      "MSE is 40.35951602496954 with order (4, 1, 1)\n",
      "MSE is 39.73335703511875 with order (4, 1, 2)\n",
      "MSE is 40.19248486786205 with order (4, 1, 3)\n",
      "MSE is 41.14904259858835 with order (4, 1, 4)\n",
      "MSE is 310.5166752471623 with order (4, 2, 0)\n",
      "MSE is 69.18316227023037 with order (5, 0, 0)\n",
      "MSE is 71.8578755116627 with order (5, 0, 1)\n",
      "MSE is 49.03637334086557 with order (5, 0, 2)\n",
      "MSE is 63.06272757976476 with order (5, 0, 3)\n",
      "MSE is 42.48416675630793 with order (5, 0, 4)\n",
      "MSE is 87.16118261719245 with order (5, 1, 0)\n",
      "MSE is 40.65018746543969 with order (5, 1, 1)\n",
      "MSE is 40.782803683325085 with order (5, 1, 2)\n",
      "MSE is 40.54503542218512 with order (5, 1, 3)\n",
      "MSE is 40.10748086802907 with order (5, 1, 4)\n",
      "MSE is 246.31384010066947 with order (5, 2, 0)\n",
      "MSE is 63.545739192673274 with order (6, 0, 0)\n",
      "MSE is 52.499583481330035 with order (6, 0, 1)\n",
      "MSE is 46.65348059969295 with order (6, 0, 2)\n",
      "MSE is 62.48574028789297 with order (6, 0, 3)\n",
      "MSE is 64.24987719384738 with order (6, 0, 4)\n",
      "MSE is 88.55933914011672 with order (6, 1, 0)\n",
      "MSE is 61.216281925032746 with order (6, 1, 1)\n",
      "MSE is 39.832237694590475 with order (6, 1, 2)\n"
     ]
    }
   ],
   "source": [
    "### so we are just trying to provide pairs of (p,d,q) & whichever pair will give me least error i will consider that pair, \n",
    "for p in p_values:\n",
    "    for d in d_values:\n",
    "        for q in q_values:\n",
    "            order=(p,d,q)\n",
    "            train=f_birth[0:300]\n",
    "            test=f_birth[300:]\n",
    "            ### now we have train & test data that we can pass to our algorithm\n",
    "            predictions=[]\n",
    "            for i in range(len(test)):\n",
    "                try:\n",
    "                    arima=ARIMA(train,order)\n",
    "                    model=arima.fit(disp=0)\n",
    "                    pred_y=model.forecast()[0]\n",
    "                    predictions.append(pred_y)\n",
    "                    error=mean_squared_error(test,predictions)\n",
    "                    print('MSE is {} with order {}'.format(error,order))\n",
    "                except:\n",
    "                    continue\n"
   ]
  },
  {
   "cell_type": "code",
   "execution_count": null,
   "metadata": {},
   "outputs": [],
   "source": []
  },
  {
   "cell_type": "code",
   "execution_count": null,
   "metadata": {},
   "outputs": [],
   "source": []
  }
 ],
 "metadata": {
  "kernelspec": {
   "display_name": "Python 3",
   "language": "python",
   "name": "python3"
  },
  "language_info": {
   "codemirror_mode": {
    "name": "ipython",
    "version": 3
   },
   "file_extension": ".py",
   "mimetype": "text/x-python",
   "name": "python",
   "nbconvert_exporter": "python",
   "pygments_lexer": "ipython3",
   "version": "3.8.8"
  }
 },
 "nbformat": 4,
 "nbformat_minor": 2
}
