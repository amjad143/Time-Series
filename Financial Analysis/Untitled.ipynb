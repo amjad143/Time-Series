{
 "cells": [
  {
   "cell_type": "markdown",
   "id": "6fb2f100",
   "metadata": {},
   "source": [
    "# Techinical Analysis (TA) in Python\n",
    "* Creating a candlestick chart\n",
    "* Backtesting a strategy based on simple moving average\n",
    "* Calculating Bollinger Bands and testing a buy/sell strategy\n",
    "* Calculating the relative strength index and testing a long/short strategy\n",
    "* Building an interactive dashbord for TA"
   ]
  },
  {
   "cell_type": "markdown",
   "id": "7e4cc8ee",
   "metadata": {},
   "source": [
    "# Creating a Candle stick Chart"
   ]
  },
  {
   "cell_type": "code",
   "execution_count": null,
   "id": "f202654e",
   "metadata": {},
   "outputs": [],
   "source": []
  }
 ],
 "metadata": {
  "kernelspec": {
   "display_name": "Python 3",
   "language": "python",
   "name": "python3"
  },
  "language_info": {
   "codemirror_mode": {
    "name": "ipython",
    "version": 3
   },
   "file_extension": ".py",
   "mimetype": "text/x-python",
   "name": "python",
   "nbconvert_exporter": "python",
   "pygments_lexer": "ipython3",
   "version": "3.8.8"
  }
 },
 "nbformat": 4,
 "nbformat_minor": 5
}
